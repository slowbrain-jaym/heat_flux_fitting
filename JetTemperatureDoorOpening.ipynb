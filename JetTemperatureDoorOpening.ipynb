{
 "cells": [
  {
   "cell_type": "code",
   "execution_count": 12,
   "metadata": {},
   "outputs": [],
   "source": [
    "import itertools\n",
    "import pandas as pd\n",
    "import scipy.interpolate as inter\n",
    "import numpy as np\n",
    "import matplotlib.pyplot as plt\n",
    "import matplotlib.cm as cm\n",
    "import scipy.signal as sig\n",
    "import scipy.misc as misc\n",
    "import scipy.integrate as integrate\n",
    "import scipy.optimize as opt\n",
    "from mpl_toolkits.mplot3d import Axes3D\n",
    "from scipy.special import erfc\n",
    "\n",
    "def mintime(time):\n",
    "    return 5*np.ceil(time/5.0)\n",
    "\n",
    "def maxtime(time):\n",
    "    return 5*np.floor(time/5.0)\n",
    "\n",
    "def butter_lowpass(cutoff, fs, order=5):\n",
    "    nyq = 0.5 * fs\n",
    "    normal_cutoff = cutoff / nyq\n",
    "    b, a = sig.butter(order, normal_cutoff, btype='low', analog=False)\n",
    "    return b, a\n",
    "\n",
    "def butter_lowpass_filter(data, cutoff, fs, order=5):\n",
    "    b, a = butter_lowpass(cutoff, fs, order=order)\n",
    "    y = sig.filtfilt(b, a, data)\n",
    "    return y\n",
    "\n",
    "\n",
    "def constantfluxsurface(x, t, params):\n",
    "    F0 = params[0]\n",
    "    k = params[1]\n",
    "    kappa = params[2]\n",
    "    temps = 2*F0/2*((kappa*t/np.pi)**0.5*np.exp(-x/(4*kappa*t))-x/2*erfc(x/(2*kappa *t)**0.5))\n",
    "    return temps\n",
    "\n",
    "def residual(x, t, params, measured_temp):\n",
    "    calculated_temps = consantfluxsurface(x, t, params)\n",
    "    return temps - calculated_temps\n",
    "    \n",
    "    \n",
    "\n",
    "    \n",
    "order = 3\n",
    "fs = 10.0   # sample rate, Hz\n",
    "cutoff = 0.025# desired cutoff frequency of the filter, Hz\n",
    "\n"
   ]
  },
  {
   "cell_type": "code",
   "execution_count": 15,
   "metadata": {},
   "outputs": [],
   "source": [
    "index = 0\n",
    "\n",
    "filenames = [['JetControlDoorOpen240Fan','JetControlDoorOpen100C']]\n",
    "\n",
    "\n",
    "loggerdfs = []\n",
    "for filename in filenames[0]:\n",
    "    df = pd.read_feather(\"Processed\\\\\"+filename+'.feather')\n",
    "    loggerdfs.append(df)"
   ]
  },
  {
   "cell_type": "code",
   "execution_count": null,
   "metadata": {},
   "outputs": [],
   "source": []
  },
  {
   "cell_type": "code",
   "execution_count": 4,
   "metadata": {},
   "outputs": [],
   "source": [
    "door_opened = [390, 1000]"
   ]
  },
  {
   "cell_type": "code",
   "execution_count": 19,
   "metadata": {},
   "outputs": [],
   "source": [
    "jets = ['T11','T12','T13','T14','T15']\n",
    "walls = ['T24','T25','T26','T27','T28']"
   ]
  },
  {
   "cell_type": "code",
   "execution_count": 21,
   "metadata": {},
   "outputs": [
    {
     "data": {
      "image/png": "[encoded data removed]",
      "text/plain": [
       "<Figure size 432x288 with 1 Axes>"
      ]
     },
     "metadata": {
      "needs_background": "light"
     },
     "output_type": "display_data"
    }
   ],
   "source": [
    "df = loggerdfs[0]\n",
    "colors = itertools.cycle(cm.rainbow(np.linspace(0, 1, len(jets))))\n",
    "for jet in jets:\n",
    "    c = next(colors)\n",
    "    plt.plot(df.index, df[jet], label = jet, color = c, ls='-')\n",
    "plt.legend()\n",
    "plt.show()"
   ]
  },
  {
   "cell_type": "code",
   "execution_count": 12,
   "metadata": {},
   "outputs": [],
   "source": [
    "df = concat_dfs1[0]\n",
    "colors = itertools.cycle(cm.rainbow(np.linspace(0, 1, len(walls))))\n",
    "for wall in walls:\n",
    "    c = next(colors)\n",
    "    plt.plot(df.index, df[wall+'RAW'], label = wall, color = c, ls='-')\n",
    "plt.legend()\n",
    "plt.show()"
   ]
  },
  {
   "cell_type": "code",
   "execution_count": 9,
   "metadata": {},
   "outputs": [
    {
     "data": {
      "text/plain": [
       "range(0, 32)"
      ]
     },
     "execution_count": 9,
     "metadata": {},
     "output_type": "execute_result"
    }
   ],
   "source": []
  },
  {
   "cell_type": "code",
   "execution_count": 10,
   "metadata": {},
   "outputs": [
    {
     "name": "stdout",
     "output_type": "stream",
     "text": [
      "0\n",
      "1\n",
      "2\n",
      "3\n",
      "4\n",
      "5\n",
      "6\n",
      "7\n",
      "8\n",
      "9\n",
      "10\n",
      "11\n",
      "12\n",
      "13\n",
      "14\n",
      "15\n",
      "16\n",
      "17\n",
      "18\n",
      "19\n",
      "20\n",
      "21\n",
      "22\n",
      "23\n",
      "24\n",
      "25\n",
      "26\n",
      "27\n",
      "28\n",
      "29\n",
      "30\n",
      "31\n"
     ]
    }
   ],
   "source": []
  },
  {
   "cell_type": "code",
   "execution_count": 59,
   "metadata": {},
   "outputs": [],
   "source": []
  },
  {
   "cell_type": "code",
   "execution_count": null,
   "metadata": {},
   "outputs": [],
   "source": []
  },
  {
   "cell_type": "code",
   "execution_count": 28,
   "metadata": {},
   "outputs": [
    {
     "data": {
      "text/plain": [
       "68"
      ]
     },
     "execution_count": 28,
     "metadata": {},
     "output_type": "execute_result"
    }
   ],
   "source": []
  },
  {
   "cell_type": "code",
   "execution_count": null,
   "metadata": {},
   "outputs": [],
   "source": []
  }
 ],
 "metadata": {
  "kernelspec": {
   "display_name": "Python 3",
   "language": "python",
   "name": "python3"
  },
  "language_info": {
   "codemirror_mode": {
    "name": "ipython",
    "version": 3
   },
   "file_extension": ".py",
   "mimetype": "text/x-python",
   "name": "python",
   "nbconvert_exporter": "python",
   "pygments_lexer": "ipython3",
   "version": "3.7.1"
  }
 },
 "nbformat": 4,
 "nbformat_minor": 2
}
