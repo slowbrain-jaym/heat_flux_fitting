{
 "cells": [
  {
   "cell_type": "code",
   "execution_count": 1,
   "metadata": {},
   "outputs": [],
   "source": [
    "import itertools\n",
    "import pandas as pd\n",
    "import scipy.interpolate as inter\n",
    "import numpy as np\n",
    "import matplotlib.pyplot as plt\n",
    "import matplotlib.cm as cm\n",
    "import scipy.signal as sig\n",
    "import scipy.misc as misc\n",
    "import scipy.integrate as integrate\n",
    "import scipy.optimize as opt\n",
    "from mpl_toolkits.mplot3d import Axes3D\n",
    "from scipy.special import erfc\n",
    "\n",
    "def mintime(time):\n",
    "    return 5*np.ceil(time/5.0)\n",
    "\n",
    "def maxtime(time):\n",
    "    return 5*np.floor(time/5.0)\n",
    "\n",
    "def butter_lowpass(cutoff, fs, order=5):\n",
    "    nyq = 0.5 * fs\n",
    "    normal_cutoff = cutoff / nyq\n",
    "    b, a = sig.butter(order, normal_cutoff, btype='low', analog=False)\n",
    "    return b, a\n",
    "\n",
    "def butter_lowpass_filter(data, cutoff, fs, order=5):\n",
    "    b, a = butter_lowpass(cutoff, fs, order=order)\n",
    "    y = sig.filtfilt(b, a, data)\n",
    "    return y\n",
    "\n",
    "def partial_derivative2d(function, x, y, dx, dy):\n",
    "    value1 = function(x-dx/2, y-dy/2)\n",
    "    value2 = function(x+dx/2, y+dy/2)\n",
    "    return (value2-value1)/np.sqrt(dx**2+dy**2)\n",
    "    \n",
    "def CloughTocher2d_interpolator(xref, yref, vals):\n",
    "    \"\"\" 2d interpolation (requires Scipy).\n",
    "     \n",
    "    This is a convenience wrapper around\n",
    "    scipy.interpolation.CloughTocher2Dinterpolator, that saves you\n",
    "    having to worry about using meshgrid.\n",
    " \n",
    "    Parameters\n",
    "    ----------\n",
    "    xref, yref : array of floats, shapes (J,), (I,)\n",
    "      Reference coordinate grid. The grid must be equally spaced along\n",
    "      each direction, but the spacing can be different between\n",
    "      directions.\n",
    "    vals : array of floats, shape (I, J)\n",
    "      Reference values at the reference grid positions.\n",
    " \n",
    "    Returns\n",
    "    -------\n",
    "    interpolator: CloughTocher2DInterpolater instance\n",
    "      Object that accepts a (y,x) tuple (note reversed order from the\n",
    "      input to this function!) and returns the interpolated value.\n",
    " \n",
    "    See Also\n",
    "    --------\n",
    "    barak.plot.arrplot for plotting the reference and interpolated arrays.\n",
    "    \"\"\"\n",
    " \n",
    "    assert (len(yref), len(xref)) == vals.shape\n",
    "    XREF,YREF = np.meshgrid(xref, yref)\n",
    "    \n",
    "    interpolator = inter.CloughTocher2DInterpolator((XREF.ravel(), YREF.ravel()),\n",
    "                                              vals.ravel())\n",
    " \n",
    "    return interpolator\n",
    "\n",
    "def constantfluxsurface(x, t, params):\n",
    "    F0 = params[0]\n",
    "    k = params[1]\n",
    "    kappa = params[2]\n",
    "    temps = 2*F0/2*((kappa*t/np.pi)**0.5*np.exp(-x/(4*kappa*t))-x/2*erfc(x/(2*kappa *t)**0.5))\n",
    "    return temps\n",
    "\n",
    "def residual(x, t, params, measured_temp):\n",
    "    calculated_temps = consantfluxsurface(x, t, params)\n",
    "    return temps - calculated_temps\n",
    "    \n",
    "    \n",
    "\n",
    "    \n",
    "order = 3\n",
    "fs = 10.0   # sample rate, Hz\n",
    "cutoff = 0.025# desired cutoff frequency of the filter, Hz\n",
    "\n"
   ]
  },
  {
   "cell_type": "code",
   "execution_count": 2,
   "metadata": {
    "scrolled": true
   },
   "outputs": [
    {
     "data": {
      "application/vnd.jupyter.widget-view+json": {
       "model_id": "75684318be42471581e94d0537c57838",
       "version_major": 2,
       "version_minor": 0
      },
      "text/plain": [
       "Canvas(toolbar=Toolbar(toolitems=[('Home', 'Reset original view', 'home', 'home'), ('Back', 'Back to previous …"
      ]
     },
     "metadata": {},
     "output_type": "display_data"
    },
    {
     "data": {
      "application/vnd.jupyter.widget-view+json": {
       "model_id": "827e7f422f1345a0b064a0d4121007e0",
       "version_major": 2,
       "version_minor": 0
      },
      "text/plain": [
       "Canvas(toolbar=Toolbar(toolitems=[('Home', 'Reset original view', 'home', 'home'), ('Back', 'Back to previous …"
      ]
     },
     "metadata": {},
     "output_type": "display_data"
    },
    {
     "data": {
      "application/vnd.jupyter.widget-view+json": {
       "model_id": "1fa5ad00cb474da881e6479d9ba97306",
       "version_major": 2,
       "version_minor": 0
      },
      "text/plain": [
       "Canvas(toolbar=Toolbar(toolitems=[('Home', 'Reset original view', 'home', 'home'), ('Back', 'Back to previous …"
      ]
     },
     "metadata": {},
     "output_type": "display_data"
    },
    {
     "data": {
      "application/vnd.jupyter.widget-view+json": {
       "model_id": "f03d2c9897b8476dab14fd2c34c4fd65",
       "version_major": 2,
       "version_minor": 0
      },
      "text/plain": [
       "Canvas(toolbar=Toolbar(toolitems=[('Home', 'Reset original view', 'home', 'home'), ('Back', 'Back to previous …"
      ]
     },
     "metadata": {},
     "output_type": "display_data"
    },
    {
     "data": {
      "application/vnd.jupyter.widget-view+json": {
       "model_id": "152568434a1b488488244891e8cf2eea",
       "version_major": 2,
       "version_minor": 0
      },
      "text/plain": [
       "Canvas(toolbar=Toolbar(toolitems=[('Home', 'Reset original view', 'home', 'home'), ('Back', 'Back to previous …"
      ]
     },
     "metadata": {},
     "output_type": "display_data"
    },
    {
     "data": {
      "application/vnd.jupyter.widget-view+json": {
       "model_id": "6135e46f185f4a45a16fe48e35168f94",
       "version_major": 2,
       "version_minor": 0
      },
      "text/plain": [
       "Canvas(toolbar=Toolbar(toolitems=[('Home', 'Reset original view', 'home', 'home'), ('Back', 'Back to previous …"
      ]
     },
     "metadata": {},
     "output_type": "display_data"
    },
    {
     "data": {
      "application/vnd.jupyter.widget-view+json": {
       "model_id": "5723b50255434e988f9905a095810157",
       "version_major": 2,
       "version_minor": 0
      },
      "text/plain": [
       "Canvas(toolbar=Toolbar(toolitems=[('Home', 'Reset original view', 'home', 'home'), ('Back', 'Back to previous …"
      ]
     },
     "metadata": {},
     "output_type": "display_data"
    },
    {
     "data": {
      "application/vnd.jupyter.widget-view+json": {
       "model_id": "602e4774e049441bba67ab213e20b5f1",
       "version_major": 2,
       "version_minor": 0
      },
      "text/plain": [
       "Canvas(toolbar=Toolbar(toolitems=[('Home', 'Reset original view', 'home', 'home'), ('Back', 'Back to previous …"
      ]
     },
     "metadata": {},
     "output_type": "display_data"
    },
    {
     "data": {
      "application/vnd.jupyter.widget-view+json": {
       "model_id": "32fb4f8fce8d479fb2dcfb58cd6b7c8b",
       "version_major": 2,
       "version_minor": 0
      },
      "text/plain": [
       "Canvas(toolbar=Toolbar(toolitems=[('Home', 'Reset original view', 'home', 'home'), ('Back', 'Back to previous …"
      ]
     },
     "metadata": {},
     "output_type": "display_data"
    },
    {
     "data": {
      "application/vnd.jupyter.widget-view+json": {
       "model_id": "08cba535aff24a019040c57efaad6657",
       "version_major": 2,
       "version_minor": 0
      },
      "text/plain": [
       "Canvas(toolbar=Toolbar(toolitems=[('Home', 'Reset original view', 'home', 'home'), ('Back', 'Back to previous …"
      ]
     },
     "metadata": {},
     "output_type": "display_data"
    },
    {
     "data": {
      "application/vnd.jupyter.widget-view+json": {
       "model_id": "7e560d9ceca84729b14089b5f732762a",
       "version_major": 2,
       "version_minor": 0
      },
      "text/plain": [
       "Canvas(toolbar=Toolbar(toolitems=[('Home', 'Reset original view', 'home', 'home'), ('Back', 'Back to previous …"
      ]
     },
     "metadata": {},
     "output_type": "display_data"
    },
    {
     "data": {
      "application/vnd.jupyter.widget-view+json": {
       "model_id": "e886f3ddcd0147a7a95076e26cccba81",
       "version_major": 2,
       "version_minor": 0
      },
      "text/plain": [
       "Canvas(toolbar=Toolbar(toolitems=[('Home', 'Reset original view', 'home', 'home'), ('Back', 'Back to previous …"
      ]
     },
     "metadata": {},
     "output_type": "display_data"
    },
    {
     "data": {
      "application/vnd.jupyter.widget-view+json": {
       "model_id": "1b297f1477f4495581e106772fd2a501",
       "version_major": 2,
       "version_minor": 0
      },
      "text/plain": [
       "Canvas(toolbar=Toolbar(toolitems=[('Home', 'Reset original view', 'home', 'home'), ('Back', 'Back to previous …"
      ]
     },
     "metadata": {},
     "output_type": "display_data"
    },
    {
     "data": {
      "application/vnd.jupyter.widget-view+json": {
       "model_id": "c850f323fb724c6b8f4867b6182aec91",
       "version_major": 2,
       "version_minor": 0
      },
      "text/plain": [
       "Canvas(toolbar=Toolbar(toolitems=[('Home', 'Reset original view', 'home', 'home'), ('Back', 'Back to previous …"
      ]
     },
     "metadata": {},
     "output_type": "display_data"
    },
    {
     "data": {
      "application/vnd.jupyter.widget-view+json": {
       "model_id": "ce2224cf90d64621a1b124385ba0e8f3",
       "version_major": 2,
       "version_minor": 0
      },
      "text/plain": [
       "Canvas(toolbar=Toolbar(toolitems=[('Home', 'Reset original view', 'home', 'home'), ('Back', 'Back to previous …"
      ]
     },
     "metadata": {},
     "output_type": "display_data"
    },
    {
     "data": {
      "application/vnd.jupyter.widget-view+json": {
       "model_id": "d0ca7d6d661241258346cfcf2059ab39",
       "version_major": 2,
       "version_minor": 0
      },
      "text/plain": [
       "Canvas(toolbar=Toolbar(toolitems=[('Home', 'Reset original view', 'home', 'home'), ('Back', 'Back to previous …"
      ]
     },
     "metadata": {},
     "output_type": "display_data"
    },
    {
     "data": {
      "application/vnd.jupyter.widget-view+json": {
       "model_id": "c9462eef2dd74104b79f1557ae23763a",
       "version_major": 2,
       "version_minor": 0
      },
      "text/plain": [
       "Canvas(toolbar=Toolbar(toolitems=[('Home', 'Reset original view', 'home', 'home'), ('Back', 'Back to previous …"
      ]
     },
     "metadata": {},
     "output_type": "display_data"
    },
    {
     "data": {
      "application/vnd.jupyter.widget-view+json": {
       "model_id": "e0212edfc92f4aba84834ccb9519f5c4",
       "version_major": 2,
       "version_minor": 0
      },
      "text/plain": [
       "Canvas(toolbar=Toolbar(toolitems=[('Home', 'Reset original view', 'home', 'home'), ('Back', 'Back to previous …"
      ]
     },
     "metadata": {},
     "output_type": "display_data"
    },
    {
     "data": {
      "application/vnd.jupyter.widget-view+json": {
       "model_id": "febadae7ea894b9ca790401f0e8318fb",
       "version_major": 2,
       "version_minor": 0
      },
      "text/plain": [
       "Canvas(toolbar=Toolbar(toolitems=[('Home', 'Reset original view', 'home', 'home'), ('Back', 'Back to previous …"
      ]
     },
     "metadata": {},
     "output_type": "display_data"
    },
    {
     "data": {
      "application/vnd.jupyter.widget-view+json": {
       "model_id": "e3f88f3571ec4539900755c4f1072d0d",
       "version_major": 2,
       "version_minor": 0
      },
      "text/plain": [
       "Canvas(toolbar=Toolbar(toolitems=[('Home', 'Reset original view', 'home', 'home'), ('Back', 'Back to previous …"
      ]
     },
     "metadata": {},
     "output_type": "display_data"
    },
    {
     "name": "stderr",
     "output_type": "stream",
     "text": [
      "C:\\Anaconda\\lib\\site-packages\\ipykernel_launcher.py:18: RuntimeWarning: More than 20 figures have been opened. Figures created through the pyplot interface (`matplotlib.pyplot.figure`) are retained until explicitly closed and may consume too much memory. (To control this warning, see the rcParam `figure.max_open_warning`).\n"
     ]
    },
    {
     "data": {
      "application/vnd.jupyter.widget-view+json": {
       "model_id": "e6cfac31525f4823a559b21759eae4ff",
       "version_major": 2,
       "version_minor": 0
      },
      "text/plain": [
       "Canvas(toolbar=Toolbar(toolitems=[('Home', 'Reset original view', 'home', 'home'), ('Back', 'Back to previous …"
      ]
     },
     "metadata": {},
     "output_type": "display_data"
    },
    {
     "name": "stderr",
     "output_type": "stream",
     "text": [
      "C:\\Anaconda\\lib\\site-packages\\ipykernel_launcher.py:18: RuntimeWarning: More than 20 figures have been opened. Figures created through the pyplot interface (`matplotlib.pyplot.figure`) are retained until explicitly closed and may consume too much memory. (To control this warning, see the rcParam `figure.max_open_warning`).\n"
     ]
    },
    {
     "data": {
      "application/vnd.jupyter.widget-view+json": {
       "model_id": "1276b8b6dd7f4d9fa71ac3a337eb4fab",
       "version_major": 2,
       "version_minor": 0
      },
      "text/plain": [
       "Canvas(toolbar=Toolbar(toolitems=[('Home', 'Reset original view', 'home', 'home'), ('Back', 'Back to previous …"
      ]
     },
     "metadata": {},
     "output_type": "display_data"
    },
    {
     "name": "stderr",
     "output_type": "stream",
     "text": [
      "C:\\Anaconda\\lib\\site-packages\\ipykernel_launcher.py:18: RuntimeWarning: More than 20 figures have been opened. Figures created through the pyplot interface (`matplotlib.pyplot.figure`) are retained until explicitly closed and may consume too much memory. (To control this warning, see the rcParam `figure.max_open_warning`).\n"
     ]
    },
    {
     "data": {
      "application/vnd.jupyter.widget-view+json": {
       "model_id": "fed91d27a84b4d8cbd2cef3f3ef71c03",
       "version_major": 2,
       "version_minor": 0
      },
      "text/plain": [
       "Canvas(toolbar=Toolbar(toolitems=[('Home', 'Reset original view', 'home', 'home'), ('Back', 'Back to previous …"
      ]
     },
     "metadata": {},
     "output_type": "display_data"
    },
    {
     "name": "stderr",
     "output_type": "stream",
     "text": [
      "C:\\Anaconda\\lib\\site-packages\\ipykernel_launcher.py:18: RuntimeWarning: More than 20 figures have been opened. Figures created through the pyplot interface (`matplotlib.pyplot.figure`) are retained until explicitly closed and may consume too much memory. (To control this warning, see the rcParam `figure.max_open_warning`).\n"
     ]
    },
    {
     "data": {
      "application/vnd.jupyter.widget-view+json": {
       "model_id": "913852d9790642bbb3146ff8351b6ffe",
       "version_major": 2,
       "version_minor": 0
      },
      "text/plain": [
       "Canvas(toolbar=Toolbar(toolitems=[('Home', 'Reset original view', 'home', 'home'), ('Back', 'Back to previous …"
      ]
     },
     "metadata": {},
     "output_type": "display_data"
    },
    {
     "name": "stderr",
     "output_type": "stream",
     "text": [
      "C:\\Anaconda\\lib\\site-packages\\ipykernel_launcher.py:18: RuntimeWarning: More than 20 figures have been opened. Figures created through the pyplot interface (`matplotlib.pyplot.figure`) are retained until explicitly closed and may consume too much memory. (To control this warning, see the rcParam `figure.max_open_warning`).\n"
     ]
    },
    {
     "data": {
      "application/vnd.jupyter.widget-view+json": {
       "model_id": "78a7f6e982f1425c8f6f7050abf8b6c5",
       "version_major": 2,
       "version_minor": 0
      },
      "text/plain": [
       "Canvas(toolbar=Toolbar(toolitems=[('Home', 'Reset original view', 'home', 'home'), ('Back', 'Back to previous …"
      ]
     },
     "metadata": {},
     "output_type": "display_data"
    },
    {
     "name": "stderr",
     "output_type": "stream",
     "text": [
      "C:\\Anaconda\\lib\\site-packages\\ipykernel_launcher.py:18: RuntimeWarning: More than 20 figures have been opened. Figures created through the pyplot interface (`matplotlib.pyplot.figure`) are retained until explicitly closed and may consume too much memory. (To control this warning, see the rcParam `figure.max_open_warning`).\n"
     ]
    },
    {
     "data": {
      "application/vnd.jupyter.widget-view+json": {
       "model_id": "9d059889a43d4fb58cb0927fa85f4934",
       "version_major": 2,
       "version_minor": 0
      },
      "text/plain": [
       "Canvas(toolbar=Toolbar(toolitems=[('Home', 'Reset original view', 'home', 'home'), ('Back', 'Back to previous …"
      ]
     },
     "metadata": {},
     "output_type": "display_data"
    },
    {
     "name": "stderr",
     "output_type": "stream",
     "text": [
      "C:\\Anaconda\\lib\\site-packages\\ipykernel_launcher.py:18: RuntimeWarning: More than 20 figures have been opened. Figures created through the pyplot interface (`matplotlib.pyplot.figure`) are retained until explicitly closed and may consume too much memory. (To control this warning, see the rcParam `figure.max_open_warning`).\n"
     ]
    },
    {
     "data": {
      "application/vnd.jupyter.widget-view+json": {
       "model_id": "6dedb96b89d54e83819db756721e23de",
       "version_major": 2,
       "version_minor": 0
      },
      "text/plain": [
       "Canvas(toolbar=Toolbar(toolitems=[('Home', 'Reset original view', 'home', 'home'), ('Back', 'Back to previous …"
      ]
     },
     "metadata": {},
     "output_type": "display_data"
    },
    {
     "name": "stderr",
     "output_type": "stream",
     "text": [
      "C:\\Anaconda\\lib\\site-packages\\ipykernel_launcher.py:18: RuntimeWarning: More than 20 figures have been opened. Figures created through the pyplot interface (`matplotlib.pyplot.figure`) are retained until explicitly closed and may consume too much memory. (To control this warning, see the rcParam `figure.max_open_warning`).\n"
     ]
    },
    {
     "data": {
      "application/vnd.jupyter.widget-view+json": {
       "model_id": "b50d2568d46140719006dfb8dbcc3ce0",
       "version_major": 2,
       "version_minor": 0
      },
      "text/plain": [
       "Canvas(toolbar=Toolbar(toolitems=[('Home', 'Reset original view', 'home', 'home'), ('Back', 'Back to previous …"
      ]
     },
     "metadata": {},
     "output_type": "display_data"
    },
    {
     "name": "stderr",
     "output_type": "stream",
     "text": [
      "C:\\Anaconda\\lib\\site-packages\\ipykernel_launcher.py:18: RuntimeWarning: More than 20 figures have been opened. Figures created through the pyplot interface (`matplotlib.pyplot.figure`) are retained until explicitly closed and may consume too much memory. (To control this warning, see the rcParam `figure.max_open_warning`).\n"
     ]
    },
    {
     "data": {
      "application/vnd.jupyter.widget-view+json": {
       "model_id": "d18708dc237841cc8114a0d131b6c101",
       "version_major": 2,
       "version_minor": 0
      },
      "text/plain": [
       "Canvas(toolbar=Toolbar(toolitems=[('Home', 'Reset original view', 'home', 'home'), ('Back', 'Back to previous …"
      ]
     },
     "metadata": {},
     "output_type": "display_data"
    },
    {
     "name": "stderr",
     "output_type": "stream",
     "text": [
      "C:\\Anaconda\\lib\\site-packages\\ipykernel_launcher.py:18: RuntimeWarning: More than 20 figures have been opened. Figures created through the pyplot interface (`matplotlib.pyplot.figure`) are retained until explicitly closed and may consume too much memory. (To control this warning, see the rcParam `figure.max_open_warning`).\n"
     ]
    },
    {
     "data": {
      "application/vnd.jupyter.widget-view+json": {
       "model_id": "222fa8c18fb14dfb94f0a8cbad3a3459",
       "version_major": 2,
       "version_minor": 0
      },
      "text/plain": [
       "Canvas(toolbar=Toolbar(toolitems=[('Home', 'Reset original view', 'home', 'home'), ('Back', 'Back to previous …"
      ]
     },
     "metadata": {},
     "output_type": "display_data"
    },
    {
     "name": "stderr",
     "output_type": "stream",
     "text": [
      "C:\\Anaconda\\lib\\site-packages\\ipykernel_launcher.py:18: RuntimeWarning: More than 20 figures have been opened. Figures created through the pyplot interface (`matplotlib.pyplot.figure`) are retained until explicitly closed and may consume too much memory. (To control this warning, see the rcParam `figure.max_open_warning`).\n"
     ]
    },
    {
     "data": {
      "application/vnd.jupyter.widget-view+json": {
       "model_id": "3541475250154bdd9d34787ee2e0f331",
       "version_major": 2,
       "version_minor": 0
      },
      "text/plain": [
       "Canvas(toolbar=Toolbar(toolitems=[('Home', 'Reset original view', 'home', 'home'), ('Back', 'Back to previous …"
      ]
     },
     "metadata": {},
     "output_type": "display_data"
    },
    {
     "name": "stderr",
     "output_type": "stream",
     "text": [
      "C:\\Anaconda\\lib\\site-packages\\ipykernel_launcher.py:18: RuntimeWarning: More than 20 figures have been opened. Figures created through the pyplot interface (`matplotlib.pyplot.figure`) are retained until explicitly closed and may consume too much memory. (To control this warning, see the rcParam `figure.max_open_warning`).\n"
     ]
    },
    {
     "data": {
      "application/vnd.jupyter.widget-view+json": {
       "model_id": "b0eac68f20ae458ba8a225ef3395b290",
       "version_major": 2,
       "version_minor": 0
      },
      "text/plain": [
       "Canvas(toolbar=Toolbar(toolitems=[('Home', 'Reset original view', 'home', 'home'), ('Back', 'Back to previous …"
      ]
     },
     "metadata": {},
     "output_type": "display_data"
    },
    {
     "name": "stderr",
     "output_type": "stream",
     "text": [
      "C:\\Anaconda\\lib\\site-packages\\ipykernel_launcher.py:18: RuntimeWarning: More than 20 figures have been opened. Figures created through the pyplot interface (`matplotlib.pyplot.figure`) are retained until explicitly closed and may consume too much memory. (To control this warning, see the rcParam `figure.max_open_warning`).\n"
     ]
    },
    {
     "data": {
      "application/vnd.jupyter.widget-view+json": {
       "model_id": "fcc299b3b03b479a865726103a84bd71",
       "version_major": 2,
       "version_minor": 0
      },
      "text/plain": [
       "Canvas(toolbar=Toolbar(toolitems=[('Home', 'Reset original view', 'home', 'home'), ('Back', 'Back to previous …"
      ]
     },
     "metadata": {},
     "output_type": "display_data"
    },
    {
     "name": "stderr",
     "output_type": "stream",
     "text": [
      "C:\\Anaconda\\lib\\site-packages\\ipykernel_launcher.py:18: RuntimeWarning: More than 20 figures have been opened. Figures created through the pyplot interface (`matplotlib.pyplot.figure`) are retained until explicitly closed and may consume too much memory. (To control this warning, see the rcParam `figure.max_open_warning`).\n"
     ]
    },
    {
     "data": {
      "application/vnd.jupyter.widget-view+json": {
       "model_id": "4d2ac8f341f54e24960276cdc394428e",
       "version_major": 2,
       "version_minor": 0
      },
      "text/plain": [
       "Canvas(toolbar=Toolbar(toolitems=[('Home', 'Reset original view', 'home', 'home'), ('Back', 'Back to previous …"
      ]
     },
     "metadata": {},
     "output_type": "display_data"
    },
    {
     "name": "stderr",
     "output_type": "stream",
     "text": [
      "C:\\Anaconda\\lib\\site-packages\\ipykernel_launcher.py:18: RuntimeWarning: More than 20 figures have been opened. Figures created through the pyplot interface (`matplotlib.pyplot.figure`) are retained until explicitly closed and may consume too much memory. (To control this warning, see the rcParam `figure.max_open_warning`).\n"
     ]
    },
    {
     "data": {
      "application/vnd.jupyter.widget-view+json": {
       "model_id": "ff77a253bebd424ab46e6c415be31384",
       "version_major": 2,
       "version_minor": 0
      },
      "text/plain": [
       "Canvas(toolbar=Toolbar(toolitems=[('Home', 'Reset original view', 'home', 'home'), ('Back', 'Back to previous …"
      ]
     },
     "metadata": {},
     "output_type": "display_data"
    },
    {
     "name": "stderr",
     "output_type": "stream",
     "text": [
      "C:\\Anaconda\\lib\\site-packages\\ipykernel_launcher.py:18: RuntimeWarning: More than 20 figures have been opened. Figures created through the pyplot interface (`matplotlib.pyplot.figure`) are retained until explicitly closed and may consume too much memory. (To control this warning, see the rcParam `figure.max_open_warning`).\n"
     ]
    },
    {
     "data": {
      "application/vnd.jupyter.widget-view+json": {
       "model_id": "851b422ed7a24adf8608c9d6656c1212",
       "version_major": 2,
       "version_minor": 0
      },
      "text/plain": [
       "Canvas(toolbar=Toolbar(toolitems=[('Home', 'Reset original view', 'home', 'home'), ('Back', 'Back to previous …"
      ]
     },
     "metadata": {},
     "output_type": "display_data"
    },
    {
     "name": "stderr",
     "output_type": "stream",
     "text": [
      "C:\\Anaconda\\lib\\site-packages\\ipykernel_launcher.py:18: RuntimeWarning: More than 20 figures have been opened. Figures created through the pyplot interface (`matplotlib.pyplot.figure`) are retained until explicitly closed and may consume too much memory. (To control this warning, see the rcParam `figure.max_open_warning`).\n"
     ]
    },
    {
     "data": {
      "application/vnd.jupyter.widget-view+json": {
       "model_id": "1f03d07f4ad34ade903b78ef3aa6231d",
       "version_major": 2,
       "version_minor": 0
      },
      "text/plain": [
       "Canvas(toolbar=Toolbar(toolitems=[('Home', 'Reset original view', 'home', 'home'), ('Back', 'Back to previous …"
      ]
     },
     "metadata": {},
     "output_type": "display_data"
    },
    {
     "name": "stderr",
     "output_type": "stream",
     "text": [
      "C:\\Anaconda\\lib\\site-packages\\ipykernel_launcher.py:18: RuntimeWarning: More than 20 figures have been opened. Figures created through the pyplot interface (`matplotlib.pyplot.figure`) are retained until explicitly closed and may consume too much memory. (To control this warning, see the rcParam `figure.max_open_warning`).\n"
     ]
    },
    {
     "data": {
      "application/vnd.jupyter.widget-view+json": {
       "model_id": "c1a0e13a1888437fbdb025a6ce8ec42d",
       "version_major": 2,
       "version_minor": 0
      },
      "text/plain": [
       "Canvas(toolbar=Toolbar(toolitems=[('Home', 'Reset original view', 'home', 'home'), ('Back', 'Back to previous …"
      ]
     },
     "metadata": {},
     "output_type": "display_data"
    }
   ],
   "source": [
    "# load all the data into the script and plot a key temperature to decide the start and end of the heat flux experiment\n",
    "%matplotlib ipympl\n",
    "\n",
    "target_folder = \"C:/Users/jamen/Google Drive/Everything/Results/P1/HeatFlux Sensor/Processed//\"\n",
    "\n",
    "filenames = [\"Conv150_1_1\",\"Conv150_1_2\",\"Conv150_2_1\",\"Conv150_2_2\",\"Conv150_3_1\",\"Conv150_3_2\",\"Conv150_4_1\",\"Conv150_4_2\",\n",
    "\"Conv150_6_1\",\"Conv150_6_2\",\n",
    "\"Conv250_1_1\",\"Conv250_1_2\",\"Conv250_2_1\",\"Conv250_2_2\",\"Conv250_3_1\",\"Conv250_3_2\",\"Conv250_4_1\",\"Conv250_4_2\",\"Conv250_6_1\",\n",
    "\"Conv200_1_1\",\"Conv200_1_2\",\"Conv200_2_1\",\"Conv200_3_1\",\"Conv200_3_2\",\"Conv200_4_1\",\"Conv200_4_2\",\"Conv200_6_1\",\"Conv200_6_2\",\n",
    "\"LowE200_1_1\",\"LowE200_1_2\",\"LowE200_2_1\",\"LowE200_2_2\",\"LowE200_3_1\", \"LowE200_3_2\",\"LowE200_4_1\",\"LowE200_4_2\",\"LowE200_6_1\",\"LowE200_6_2\"]\n",
    "\n",
    "dfs = []\n",
    "\n",
    "test_TCs = [\"T23RAW\", \"T19RAW\"]\n",
    "figs = []\n",
    "\n",
    "for i in range(len(filenames)):\n",
    "    figs.append(plt.subplots(nrows=1))\n",
    "    fig, ax = figs[i]\n",
    "    \n",
    "    filename = filenames[i]\n",
    "    df = pd.read_feather(target_folder+filename+'.feather')\n",
    "    dfs.append(df)\n",
    "    colors = itertools.cycle(cm.rainbow(np.linspace(0, 1, len(test_TCs))))\n",
    "    \n",
    "    if filename[0:4] == \"Conv\":\n",
    "        df[\"surface\"] = \"black\"\n",
    "        df[\"emissivity\"] = 1.0\n",
    "        df[\"ali thickness\"] = 0.002\n",
    "    else:\n",
    "        df[\"surface\"] = \"polished\"\n",
    "        df[\"emissivity\"] = 0.05\n",
    "        df[\"ali thickness\"] = 0.003\n",
    "    df['jet temp'] = int(filename[4:7])\n",
    "    df['position'] = int(filename[8])\n",
    "    df['repeat'] = int(filename[10])\n",
    "    df[\"ID\"] = i\n",
    "    for TC in test_TCs:\n",
    "        c = next(colors)\n",
    "        ax.plot(df[\"time\"],df[TC], label = TC, color = c)\n",
    "    ax.set_title(filenames[i]+\" \"+str(i))\n",
    "    fig.legend()\n",
    "plt.show()"
   ]
  },
  {
   "cell_type": "markdown",
   "metadata": {},
   "source": [
    "The above plot is used to ascertain the start and end of each of the heat flux experiments, this data is then inputted in the \"start_ends\" list below which crops the data to this range"
   ]
  },
  {
   "cell_type": "code",
   "execution_count": 3,
   "metadata": {},
   "outputs": [],
   "source": [
    "i=0\n",
    "\n",
    "\n",
    "start_ends = [[100,520],[80,410],\n",
    "              [80,860],[80,860],\n",
    "              [80,315],[85,415],\n",
    "              [85,510],[75,755],\n",
    "              [75,760],[100,600], \n",
    "              [80,215],[80,245],\n",
    "              [50,180],[60,190],\n",
    "              [55,190],[55,230],\n",
    "             [70,250],[65,225],\n",
    "             [75,275],\n",
    "             [65,345],[75,320],\n",
    "             [55,315],\n",
    "             [80,370],[45,355],\n",
    "              [80,1140],[30,400],\n",
    "              [170,425],[70,340],\n",
    "              [140,550],[85,450],\n",
    "              [70,475],[70,565],\n",
    "             [70,560], [80,515],\n",
    "             [70,475], [65,675],\n",
    "              [55,410],[110,500]]\n",
    "\n",
    "\n",
    "for i in range(len(dfs)):\n",
    "    dfs[i]['time'] = dfs[i]['time'] - start_ends[i][0]\n",
    "    dfs[i] = dfs[i][dfs[i]['time']<start_ends[i][1]-start_ends[i][0]]\n",
    "    dfs[i] = dfs[i][dfs[i]['time']>=0]\n",
    "    #dfs[i] = dfs[i].sort_index()"
   ]
  },
  {
   "cell_type": "markdown",
   "metadata": {},
   "source": [
    "The flux data is calculated using a function copied from the master data processing script on github, flux and HTC columns are added to the dataframes"
   ]
  },
  {
   "cell_type": "code",
   "execution_count": 4,
   "metadata": {},
   "outputs": [],
   "source": [
    "# copied from master processing script\n",
    "\n",
    "import pandas as pd\n",
    "import scipy.interpolate as inter\n",
    "import scipy.integrate as integrate\n",
    "\n",
    "def heat_flux_sensor_calculation(df, sensor_information, boundary_TC):\n",
    "\n",
    "    for TC in sensor_information[1]:\n",
    "        df[TC+' change'] = df[TC] - df.iloc[0][TC]    \n",
    "    perspex_energy = []\n",
    "    for time in df.index:\n",
    "        temp_interp = inter.UnivariateSpline(sensor_information[0], \n",
    "                                             [df.at[time, x+' change'] for x in sensor_information[1]], s=0)\n",
    "        perspex_energy.append(1190*1466*integrate.quad(temp_interp, a=0, b=0.02)[0])\n",
    "    df['perspex energy'] = perspex_energy\n",
    "    df['ali energy'] = df[sensor_information[1][0]+' change']*2710.0*910.0*df[\"ali thickness\"]\n",
    "    df['total energy'] = df['perspex energy']+df['ali energy']\n",
    "    df['flux'] = df['total energy'].diff(1)/5.0\n",
    "    df['HTC'] = df['flux']/(df[boundary_TC] - df[sensor_information[1][0]])\n",
    "    return df\n",
    "\n",
    "\n",
    "sensor_information = [[0.0, 0.005, 0.01, 0.015, 0.02], ['T19RAW', 'T18RAW', 'T20RAW', 'T16RAW', 'T17RAW']]\n",
    "#                      location of TC in mm from the surface, name of TC\n",
    "boundary_TC = 'T23'# TC in air boundary layer\n",
    "for df in dfs:\n",
    "    df = heat_flux_sensor_calculation(df, sensor_information, boundary_TC)  "
   ]
  },
  {
   "cell_type": "markdown",
   "metadata": {},
   "source": [
    "The processed data is combined into one dataset"
   ]
  },
  {
   "cell_type": "code",
   "execution_count": 8,
   "metadata": {},
   "outputs": [],
   "source": [
    "alldata = pd.concat(dfs)"
   ]
  },
  {
   "cell_type": "markdown",
   "metadata": {},
   "source": [
    "The flux data is then fitted to a function of flux,this can be editted in the \"surface_flux\" function.\n",
    "\n",
    "Once fitted a \"calc flux\" column is added to the dataframe\n",
    "\n",
    "Additionally a results list is created which stores the output from the fitting function"
   ]
  },
  {
   "cell_type": "code",
   "execution_count": 27,
   "metadata": {},
   "outputs": [
    {
     "name": "stderr",
     "output_type": "stream",
     "text": [
      "C:\\Anaconda\\lib\\site-packages\\ipykernel_launcher.py:12: SettingWithCopyWarning: \n",
      "A value is trying to be set on a copy of a slice from a DataFrame.\n",
      "Try using .loc[row_indexer,col_indexer] = value instead\n",
      "\n",
      "See the caveats in the documentation: https://pandas.pydata.org/pandas-docs/stable/user_guide/indexing.html#returning-a-view-versus-a-copy\n",
      "  if sys.path[0] == '':\n",
      "C:\\Anaconda\\lib\\site-packages\\pandas\\core\\indexing.py:966: SettingWithCopyWarning: \n",
      "A value is trying to be set on a copy of a slice from a DataFrame.\n",
      "Try using .loc[row_indexer,col_indexer] = value instead\n",
      "\n",
      "See the caveats in the documentation: https://pandas.pydata.org/pandas-docs/stable/user_guide/indexing.html#returning-a-view-versus-a-copy\n",
      "  self.obj[item] = s\n",
      "C:\\Anaconda\\lib\\site-packages\\ipykernel_launcher.py:4: SettingWithCopyWarning: \n",
      "A value is trying to be set on a copy of a slice from a DataFrame.\n",
      "Try using .loc[row_indexer,col_indexer] = value instead\n",
      "\n",
      "See the caveats in the documentation: https://pandas.pydata.org/pandas-docs/stable/user_guide/indexing.html#returning-a-view-versus-a-copy\n",
      "  after removing the cwd from sys.path.\n",
      "C:\\Anaconda\\lib\\site-packages\\ipykernel_launcher.py:6: SettingWithCopyWarning: \n",
      "A value is trying to be set on a copy of a slice from a DataFrame.\n",
      "Try using .loc[row_indexer,col_indexer] = value instead\n",
      "\n",
      "See the caveats in the documentation: https://pandas.pydata.org/pandas-docs/stable/user_guide/indexing.html#returning-a-view-versus-a-copy\n",
      "  \n",
      "C:\\Anaconda\\lib\\site-packages\\ipykernel_launcher.py:7: SettingWithCopyWarning: \n",
      "A value is trying to be set on a copy of a slice from a DataFrame.\n",
      "Try using .loc[row_indexer,col_indexer] = value instead\n",
      "\n",
      "See the caveats in the documentation: https://pandas.pydata.org/pandas-docs/stable/user_guide/indexing.html#returning-a-view-versus-a-copy\n",
      "  import sys\n"
     ]
    }
   ],
   "source": [
    "def surface_flux(df, sensor_information, boundary_TC):\n",
    "    '''calculates the fitted convective and radiative fluxes into sensor, \n",
    "    returns a dataframe with those columns added'''\n",
    "    df['fitted convective flux'] = df['fitted HTC']*(df[boundary_TC]-df[sensor_information[1][0]])\n",
    "    df['fitted radiative flux'] = df[\"emissivity\"]*5.670373*10**-8*\\\n",
    "    ((df['BB temp']+273.15)**4.0-(df[sensor_information[1][0]]+273.15)**4.0)\n",
    "    df['fitted surface flux'] = df['fitted convective flux'] + df['fitted radiative flux']\n",
    "    return df\n",
    "\n",
    "def assign_parameters(params, df, test_temps):\n",
    "    '''Inputs the fitting parameters into the dataframe'''\n",
    "    df['fitted HTC'] = params[0]\n",
    "    for i in range(len(test_temps)):\n",
    "        temp = test_temps[i]\n",
    "        BB_temp = params[i+1]\n",
    "        df.loc[df['jet temp']==temp, 'BB temp'] = BB_temp\n",
    "    return df\n",
    "    \n",
    "\n",
    "def residual(params, df, sensor_information, boundary_TC, flux, test_temps):\n",
    "    df = assign_parameters(params, df, test_temps)\n",
    "    df = surface_flux(df, sensor_information, boundary_TC)\n",
    "    return np.sum((df['fitted surface flux'] - df[flux])**2.0)\n",
    "\n",
    "def fitting_wrapper(df, sensor_information, boundary_TC, flux, test_temps):\n",
    "    x0 = [30] + [180]*len(test_temps)\n",
    "    bounds = [[0, 100]] + [[100,350]]*len(test_temps)\n",
    "    result = opt.minimize(residual, x0, args=(df, sensor_information, boundary_TC, flux, test_temps), bounds=bounds)\n",
    "    df = assign_parameters(result.x, df, test_temps)\n",
    "    df = surface_flux(df, sensor_information, boundary_TC)\n",
    "    return result, df\n",
    "\n",
    "positions = alldata['position'].drop_duplicates().tolist()\n",
    "\n",
    "results = []\n",
    "dfs = []\n",
    "for position in positions:\n",
    "    test_set = alldata[alldata['position']==position]\n",
    "    test_temps = test_set['jet temp'].drop_duplicates().tolist()\n",
    "    result, df = fitting_wrapper(test_set, sensor_information, boundary_TC, 'flux', test_temps)\n",
    "    results.append(result)\n",
    "    dfs.append(df)\n",
    "alldata = pd.concat(dfs)"
   ]
  },
  {
   "cell_type": "markdown",
   "metadata": {},
   "source": [
    "Printing results from the function fitting"
   ]
  },
  {
   "cell_type": "code",
   "execution_count": 28,
   "metadata": {},
   "outputs": [
    {
     "name": "stdout",
     "output_type": "stream",
     "text": [
      "1  HTC:33.84, epsilon:115.62, BB temp:197.32)\n",
      "2  HTC:32.73, epsilon:121.99, BB temp:186.18)\n",
      "3  HTC:29.23, epsilon:128.11, BB temp:194.41)\n",
      "4  HTC:24.43, epsilon:122.77, BB temp:209.71)\n",
      "6  HTC:36.12, epsilon:137.18, BB temp:206.47)\n"
     ]
    }
   ],
   "source": [
    "for i in range(len(positions)):\n",
    "    name = positions[i]\n",
    "    res = results[i].x\n",
    "    label_string = f' HTC:{res[0]:.2f}, epsilon:{res[1]:.2f}, BB temp:{res[2]:.2f})'\n",
    "    print(name, label_string)"
   ]
  },
  {
   "cell_type": "markdown",
   "metadata": {},
   "source": [
    "Plotting for comparing caulcated / fitted heat fluxes with mesaured heat fluxes"
   ]
  },
  {
   "cell_type": "code",
   "execution_count": 41,
   "metadata": {
    "scrolled": false
   },
   "outputs": [
    {
     "data": {
      "application/vnd.jupyter.widget-view+json": {
       "model_id": "e8f5177d791243cd8a1ae671ae946373",
       "version_major": 2,
       "version_minor": 0
      },
      "text/plain": [
       "Canvas(toolbar=Toolbar(toolitems=[('Home', 'Reset original view', 'home', 'home'), ('Back', 'Back to previous …"
      ]
     },
     "metadata": {},
     "output_type": "display_data"
    },
    {
     "data": {
      "application/vnd.jupyter.widget-view+json": {
       "model_id": "24d2497fc1234d6393822d4372a79b87",
       "version_major": 2,
       "version_minor": 0
      },
      "text/plain": [
       "Canvas(toolbar=Toolbar(toolitems=[('Home', 'Reset original view', 'home', 'home'), ('Back', 'Back to previous …"
      ]
     },
     "metadata": {},
     "output_type": "display_data"
    },
    {
     "data": {
      "application/vnd.jupyter.widget-view+json": {
       "model_id": "d9d7c77944ef443da62770b26c98c2aa",
       "version_major": 2,
       "version_minor": 0
      },
      "text/plain": [
       "Canvas(toolbar=Toolbar(toolitems=[('Home', 'Reset original view', 'home', 'home'), ('Back', 'Back to previous …"
      ]
     },
     "metadata": {},
     "output_type": "display_data"
    },
    {
     "data": {
      "application/vnd.jupyter.widget-view+json": {
       "model_id": "bcbddca82f6b45f18fcf71f8f65fabc7",
       "version_major": 2,
       "version_minor": 0
      },
      "text/plain": [
       "Canvas(toolbar=Toolbar(toolitems=[('Home', 'Reset original view', 'home', 'home'), ('Back', 'Back to previous …"
      ]
     },
     "metadata": {},
     "output_type": "display_data"
    },
    {
     "data": {
      "application/vnd.jupyter.widget-view+json": {
       "model_id": "76e0f66ccce648f1a90b1f74ed521829",
       "version_major": 2,
       "version_minor": 0
      },
      "text/plain": [
       "Canvas(toolbar=Toolbar(toolitems=[('Home', 'Reset original view', 'home', 'home'), ('Back', 'Back to previous …"
      ]
     },
     "metadata": {},
     "output_type": "display_data"
    },
    {
     "data": {
      "application/vnd.jupyter.widget-view+json": {
       "model_id": "c1ea30529a7d4e9b864b078f7ae36479",
       "version_major": 2,
       "version_minor": 0
      },
      "text/plain": [
       "Canvas(toolbar=Toolbar(toolitems=[('Home', 'Reset original view', 'home', 'home'), ('Back', 'Back to previous …"
      ]
     },
     "metadata": {},
     "output_type": "display_data"
    },
    {
     "data": {
      "application/vnd.jupyter.widget-view+json": {
       "model_id": "8e7c734e479d4869a66f2127e42b5ad4",
       "version_major": 2,
       "version_minor": 0
      },
      "text/plain": [
       "Canvas(toolbar=Toolbar(toolitems=[('Home', 'Reset original view', 'home', 'home'), ('Back', 'Back to previous …"
      ]
     },
     "metadata": {},
     "output_type": "display_data"
    },
    {
     "data": {
      "application/vnd.jupyter.widget-view+json": {
       "model_id": "8aed26cb66104a6885fdf0696428fa39",
       "version_major": 2,
       "version_minor": 0
      },
      "text/plain": [
       "Canvas(toolbar=Toolbar(toolitems=[('Home', 'Reset original view', 'home', 'home'), ('Back', 'Back to previous …"
      ]
     },
     "metadata": {},
     "output_type": "display_data"
    },
    {
     "data": {
      "application/vnd.jupyter.widget-view+json": {
       "model_id": "c9f8849de02842909fe3ff9c9da3f1de",
       "version_major": 2,
       "version_minor": 0
      },
      "text/plain": [
       "Canvas(toolbar=Toolbar(toolitems=[('Home', 'Reset original view', 'home', 'home'), ('Back', 'Back to previous …"
      ]
     },
     "metadata": {},
     "output_type": "display_data"
    },
    {
     "data": {
      "application/vnd.jupyter.widget-view+json": {
       "model_id": "60498614f45d4c7ea0cc2f36e9e72bf1",
       "version_major": 2,
       "version_minor": 0
      },
      "text/plain": [
       "Canvas(toolbar=Toolbar(toolitems=[('Home', 'Reset original view', 'home', 'home'), ('Back', 'Back to previous …"
      ]
     },
     "metadata": {},
     "output_type": "display_data"
    },
    {
     "data": {
      "application/vnd.jupyter.widget-view+json": {
       "model_id": "c13dfb14448f4973a83952afd9597521",
       "version_major": 2,
       "version_minor": 0
      },
      "text/plain": [
       "Canvas(toolbar=Toolbar(toolitems=[('Home', 'Reset original view', 'home', 'home'), ('Back', 'Back to previous …"
      ]
     },
     "metadata": {},
     "output_type": "display_data"
    },
    {
     "data": {
      "application/vnd.jupyter.widget-view+json": {
       "model_id": "9d1d5e97635945e38e7049df9ee4346f",
       "version_major": 2,
       "version_minor": 0
      },
      "text/plain": [
       "Canvas(toolbar=Toolbar(toolitems=[('Home', 'Reset original view', 'home', 'home'), ('Back', 'Back to previous …"
      ]
     },
     "metadata": {},
     "output_type": "display_data"
    },
    {
     "data": {
      "application/vnd.jupyter.widget-view+json": {
       "model_id": "be398ed39385456087d1dd4d6f79a6ba",
       "version_major": 2,
       "version_minor": 0
      },
      "text/plain": [
       "Canvas(toolbar=Toolbar(toolitems=[('Home', 'Reset original view', 'home', 'home'), ('Back', 'Back to previous …"
      ]
     },
     "metadata": {},
     "output_type": "display_data"
    },
    {
     "data": {
      "application/vnd.jupyter.widget-view+json": {
       "model_id": "75dc503d42364be9b40cff679107f2d8",
       "version_major": 2,
       "version_minor": 0
      },
      "text/plain": [
       "Canvas(toolbar=Toolbar(toolitems=[('Home', 'Reset original view', 'home', 'home'), ('Back', 'Back to previous …"
      ]
     },
     "metadata": {},
     "output_type": "display_data"
    },
    {
     "data": {
      "application/vnd.jupyter.widget-view+json": {
       "model_id": "a7a74c398f0e45bcb75c0012250f4202",
       "version_major": 2,
       "version_minor": 0
      },
      "text/plain": [
       "Canvas(toolbar=Toolbar(toolitems=[('Home', 'Reset original view', 'home', 'home'), ('Back', 'Back to previous …"
      ]
     },
     "metadata": {},
     "output_type": "display_data"
    },
    {
     "data": {
      "application/vnd.jupyter.widget-view+json": {
       "model_id": "f29ddcf4040143dba29686c90a2c7058",
       "version_major": 2,
       "version_minor": 0
      },
      "text/plain": [
       "Canvas(toolbar=Toolbar(toolitems=[('Home', 'Reset original view', 'home', 'home'), ('Back', 'Back to previous …"
      ]
     },
     "metadata": {},
     "output_type": "display_data"
    },
    {
     "data": {
      "application/vnd.jupyter.widget-view+json": {
       "model_id": "128548d111964650b63d652320813f81",
       "version_major": 2,
       "version_minor": 0
      },
      "text/plain": [
       "Canvas(toolbar=Toolbar(toolitems=[('Home', 'Reset original view', 'home', 'home'), ('Back', 'Back to previous …"
      ]
     },
     "metadata": {},
     "output_type": "display_data"
    },
    {
     "data": {
      "application/vnd.jupyter.widget-view+json": {
       "model_id": "e3c15cf3aec34f73b48a1f7e6ad4fe0d",
       "version_major": 2,
       "version_minor": 0
      },
      "text/plain": [
       "Canvas(toolbar=Toolbar(toolitems=[('Home', 'Reset original view', 'home', 'home'), ('Back', 'Back to previous …"
      ]
     },
     "metadata": {},
     "output_type": "display_data"
    },
    {
     "data": {
      "application/vnd.jupyter.widget-view+json": {
       "model_id": "a47d805c68834aa8865617e4009a1385",
       "version_major": 2,
       "version_minor": 0
      },
      "text/plain": [
       "Canvas(toolbar=Toolbar(toolitems=[('Home', 'Reset original view', 'home', 'home'), ('Back', 'Back to previous …"
      ]
     },
     "metadata": {},
     "output_type": "display_data"
    },
    {
     "data": {
      "application/vnd.jupyter.widget-view+json": {
       "model_id": "e4e4293767cf4275a6e250b36bbe62c4",
       "version_major": 2,
       "version_minor": 0
      },
      "text/plain": [
       "Canvas(toolbar=Toolbar(toolitems=[('Home', 'Reset original view', 'home', 'home'), ('Back', 'Back to previous …"
      ]
     },
     "metadata": {},
     "output_type": "display_data"
    },
    {
     "name": "stderr",
     "output_type": "stream",
     "text": [
      "C:\\Anaconda\\lib\\site-packages\\ipykernel_launcher.py:9: RuntimeWarning: More than 20 figures have been opened. Figures created through the pyplot interface (`matplotlib.pyplot.figure`) are retained until explicitly closed and may consume too much memory. (To control this warning, see the rcParam `figure.max_open_warning`).\n",
      "  if __name__ == '__main__':\n"
     ]
    },
    {
     "data": {
      "application/vnd.jupyter.widget-view+json": {
       "model_id": "1eb283f910a14c01870e792b9c21ebd2",
       "version_major": 2,
       "version_minor": 0
      },
      "text/plain": [
       "Canvas(toolbar=Toolbar(toolitems=[('Home', 'Reset original view', 'home', 'home'), ('Back', 'Back to previous …"
      ]
     },
     "metadata": {},
     "output_type": "display_data"
    },
    {
     "name": "stderr",
     "output_type": "stream",
     "text": [
      "C:\\Anaconda\\lib\\site-packages\\ipykernel_launcher.py:9: RuntimeWarning: More than 20 figures have been opened. Figures created through the pyplot interface (`matplotlib.pyplot.figure`) are retained until explicitly closed and may consume too much memory. (To control this warning, see the rcParam `figure.max_open_warning`).\n",
      "  if __name__ == '__main__':\n"
     ]
    },
    {
     "data": {
      "application/vnd.jupyter.widget-view+json": {
       "model_id": "14cdf54594ba49e7ada1efb04f498e7f",
       "version_major": 2,
       "version_minor": 0
      },
      "text/plain": [
       "Canvas(toolbar=Toolbar(toolitems=[('Home', 'Reset original view', 'home', 'home'), ('Back', 'Back to previous …"
      ]
     },
     "metadata": {},
     "output_type": "display_data"
    },
    {
     "name": "stderr",
     "output_type": "stream",
     "text": [
      "C:\\Anaconda\\lib\\site-packages\\ipykernel_launcher.py:9: RuntimeWarning: More than 20 figures have been opened. Figures created through the pyplot interface (`matplotlib.pyplot.figure`) are retained until explicitly closed and may consume too much memory. (To control this warning, see the rcParam `figure.max_open_warning`).\n",
      "  if __name__ == '__main__':\n"
     ]
    },
    {
     "data": {
      "application/vnd.jupyter.widget-view+json": {
       "model_id": "844751d90de8438e98805e57c6087b43",
       "version_major": 2,
       "version_minor": 0
      },
      "text/plain": [
       "Canvas(toolbar=Toolbar(toolitems=[('Home', 'Reset original view', 'home', 'home'), ('Back', 'Back to previous …"
      ]
     },
     "metadata": {},
     "output_type": "display_data"
    },
    {
     "name": "stderr",
     "output_type": "stream",
     "text": [
      "C:\\Anaconda\\lib\\site-packages\\ipykernel_launcher.py:9: RuntimeWarning: More than 20 figures have been opened. Figures created through the pyplot interface (`matplotlib.pyplot.figure`) are retained until explicitly closed and may consume too much memory. (To control this warning, see the rcParam `figure.max_open_warning`).\n",
      "  if __name__ == '__main__':\n"
     ]
    },
    {
     "data": {
      "application/vnd.jupyter.widget-view+json": {
       "model_id": "16c8f3f4d2644835a3ee9d36b03f27c7",
       "version_major": 2,
       "version_minor": 0
      },
      "text/plain": [
       "Canvas(toolbar=Toolbar(toolitems=[('Home', 'Reset original view', 'home', 'home'), ('Back', 'Back to previous …"
      ]
     },
     "metadata": {},
     "output_type": "display_data"
    },
    {
     "name": "stderr",
     "output_type": "stream",
     "text": [
      "C:\\Anaconda\\lib\\site-packages\\ipykernel_launcher.py:9: RuntimeWarning: More than 20 figures have been opened. Figures created through the pyplot interface (`matplotlib.pyplot.figure`) are retained until explicitly closed and may consume too much memory. (To control this warning, see the rcParam `figure.max_open_warning`).\n",
      "  if __name__ == '__main__':\n"
     ]
    },
    {
     "data": {
      "application/vnd.jupyter.widget-view+json": {
       "model_id": "50716d2a35ea4dfc9edb8b2b643173e0",
       "version_major": 2,
       "version_minor": 0
      },
      "text/plain": [
       "Canvas(toolbar=Toolbar(toolitems=[('Home', 'Reset original view', 'home', 'home'), ('Back', 'Back to previous …"
      ]
     },
     "metadata": {},
     "output_type": "display_data"
    },
    {
     "name": "stderr",
     "output_type": "stream",
     "text": [
      "C:\\Anaconda\\lib\\site-packages\\ipykernel_launcher.py:9: RuntimeWarning: More than 20 figures have been opened. Figures created through the pyplot interface (`matplotlib.pyplot.figure`) are retained until explicitly closed and may consume too much memory. (To control this warning, see the rcParam `figure.max_open_warning`).\n",
      "  if __name__ == '__main__':\n"
     ]
    },
    {
     "data": {
      "application/vnd.jupyter.widget-view+json": {
       "model_id": "63e506a1384141d5bc1634a1b6c001f0",
       "version_major": 2,
       "version_minor": 0
      },
      "text/plain": [
       "Canvas(toolbar=Toolbar(toolitems=[('Home', 'Reset original view', 'home', 'home'), ('Back', 'Back to previous …"
      ]
     },
     "metadata": {},
     "output_type": "display_data"
    },
    {
     "name": "stderr",
     "output_type": "stream",
     "text": [
      "C:\\Anaconda\\lib\\site-packages\\ipykernel_launcher.py:9: RuntimeWarning: More than 20 figures have been opened. Figures created through the pyplot interface (`matplotlib.pyplot.figure`) are retained until explicitly closed and may consume too much memory. (To control this warning, see the rcParam `figure.max_open_warning`).\n",
      "  if __name__ == '__main__':\n"
     ]
    },
    {
     "data": {
      "application/vnd.jupyter.widget-view+json": {
       "model_id": "92113e517d774b3d81dedb63f4792c88",
       "version_major": 2,
       "version_minor": 0
      },
      "text/plain": [
       "Canvas(toolbar=Toolbar(toolitems=[('Home', 'Reset original view', 'home', 'home'), ('Back', 'Back to previous …"
      ]
     },
     "metadata": {},
     "output_type": "display_data"
    },
    {
     "name": "stderr",
     "output_type": "stream",
     "text": [
      "C:\\Anaconda\\lib\\site-packages\\ipykernel_launcher.py:9: RuntimeWarning: More than 20 figures have been opened. Figures created through the pyplot interface (`matplotlib.pyplot.figure`) are retained until explicitly closed and may consume too much memory. (To control this warning, see the rcParam `figure.max_open_warning`).\n",
      "  if __name__ == '__main__':\n"
     ]
    },
    {
     "data": {
      "application/vnd.jupyter.widget-view+json": {
       "model_id": "193cce3076ce4b78a151184e5d32c10b",
       "version_major": 2,
       "version_minor": 0
      },
      "text/plain": [
       "Canvas(toolbar=Toolbar(toolitems=[('Home', 'Reset original view', 'home', 'home'), ('Back', 'Back to previous …"
      ]
     },
     "metadata": {},
     "output_type": "display_data"
    },
    {
     "name": "stderr",
     "output_type": "stream",
     "text": [
      "C:\\Anaconda\\lib\\site-packages\\ipykernel_launcher.py:9: RuntimeWarning: More than 20 figures have been opened. Figures created through the pyplot interface (`matplotlib.pyplot.figure`) are retained until explicitly closed and may consume too much memory. (To control this warning, see the rcParam `figure.max_open_warning`).\n",
      "  if __name__ == '__main__':\n"
     ]
    },
    {
     "data": {
      "application/vnd.jupyter.widget-view+json": {
       "model_id": "83314a00ed884bababb262c4ac4f8498",
       "version_major": 2,
       "version_minor": 0
      },
      "text/plain": [
       "Canvas(toolbar=Toolbar(toolitems=[('Home', 'Reset original view', 'home', 'home'), ('Back', 'Back to previous …"
      ]
     },
     "metadata": {},
     "output_type": "display_data"
    },
    {
     "name": "stderr",
     "output_type": "stream",
     "text": [
      "C:\\Anaconda\\lib\\site-packages\\ipykernel_launcher.py:9: RuntimeWarning: More than 20 figures have been opened. Figures created through the pyplot interface (`matplotlib.pyplot.figure`) are retained until explicitly closed and may consume too much memory. (To control this warning, see the rcParam `figure.max_open_warning`).\n",
      "  if __name__ == '__main__':\n"
     ]
    },
    {
     "data": {
      "application/vnd.jupyter.widget-view+json": {
       "model_id": "f32f7e1c45594b7d9a9202efba97d451",
       "version_major": 2,
       "version_minor": 0
      },
      "text/plain": [
       "Canvas(toolbar=Toolbar(toolitems=[('Home', 'Reset original view', 'home', 'home'), ('Back', 'Back to previous …"
      ]
     },
     "metadata": {},
     "output_type": "display_data"
    },
    {
     "name": "stderr",
     "output_type": "stream",
     "text": [
      "C:\\Anaconda\\lib\\site-packages\\ipykernel_launcher.py:9: RuntimeWarning: More than 20 figures have been opened. Figures created through the pyplot interface (`matplotlib.pyplot.figure`) are retained until explicitly closed and may consume too much memory. (To control this warning, see the rcParam `figure.max_open_warning`).\n",
      "  if __name__ == '__main__':\n"
     ]
    },
    {
     "data": {
      "application/vnd.jupyter.widget-view+json": {
       "model_id": "668fc5dfd27e4c34957b2ec0132dd4a7",
       "version_major": 2,
       "version_minor": 0
      },
      "text/plain": [
       "Canvas(toolbar=Toolbar(toolitems=[('Home', 'Reset original view', 'home', 'home'), ('Back', 'Back to previous …"
      ]
     },
     "metadata": {},
     "output_type": "display_data"
    },
    {
     "name": "stderr",
     "output_type": "stream",
     "text": [
      "C:\\Anaconda\\lib\\site-packages\\ipykernel_launcher.py:9: RuntimeWarning: More than 20 figures have been opened. Figures created through the pyplot interface (`matplotlib.pyplot.figure`) are retained until explicitly closed and may consume too much memory. (To control this warning, see the rcParam `figure.max_open_warning`).\n",
      "  if __name__ == '__main__':\n"
     ]
    },
    {
     "data": {
      "application/vnd.jupyter.widget-view+json": {
       "model_id": "fca89ed983af41108449489b09217bbc",
       "version_major": 2,
       "version_minor": 0
      },
      "text/plain": [
       "Canvas(toolbar=Toolbar(toolitems=[('Home', 'Reset original view', 'home', 'home'), ('Back', 'Back to previous …"
      ]
     },
     "metadata": {},
     "output_type": "display_data"
    },
    {
     "name": "stderr",
     "output_type": "stream",
     "text": [
      "C:\\Anaconda\\lib\\site-packages\\ipykernel_launcher.py:9: RuntimeWarning: More than 20 figures have been opened. Figures created through the pyplot interface (`matplotlib.pyplot.figure`) are retained until explicitly closed and may consume too much memory. (To control this warning, see the rcParam `figure.max_open_warning`).\n",
      "  if __name__ == '__main__':\n"
     ]
    },
    {
     "data": {
      "application/vnd.jupyter.widget-view+json": {
       "model_id": "5f9526c8a76f40b384479605c5c69fba",
       "version_major": 2,
       "version_minor": 0
      },
      "text/plain": [
       "Canvas(toolbar=Toolbar(toolitems=[('Home', 'Reset original view', 'home', 'home'), ('Back', 'Back to previous …"
      ]
     },
     "metadata": {},
     "output_type": "display_data"
    },
    {
     "name": "stderr",
     "output_type": "stream",
     "text": [
      "C:\\Anaconda\\lib\\site-packages\\ipykernel_launcher.py:9: RuntimeWarning: More than 20 figures have been opened. Figures created through the pyplot interface (`matplotlib.pyplot.figure`) are retained until explicitly closed and may consume too much memory. (To control this warning, see the rcParam `figure.max_open_warning`).\n",
      "  if __name__ == '__main__':\n"
     ]
    },
    {
     "data": {
      "application/vnd.jupyter.widget-view+json": {
       "model_id": "051973542d544c639dbe13e9068547e3",
       "version_major": 2,
       "version_minor": 0
      },
      "text/plain": [
       "Canvas(toolbar=Toolbar(toolitems=[('Home', 'Reset original view', 'home', 'home'), ('Back', 'Back to previous …"
      ]
     },
     "metadata": {},
     "output_type": "display_data"
    },
    {
     "name": "stderr",
     "output_type": "stream",
     "text": [
      "C:\\Anaconda\\lib\\site-packages\\ipykernel_launcher.py:9: RuntimeWarning: More than 20 figures have been opened. Figures created through the pyplot interface (`matplotlib.pyplot.figure`) are retained until explicitly closed and may consume too much memory. (To control this warning, see the rcParam `figure.max_open_warning`).\n",
      "  if __name__ == '__main__':\n"
     ]
    },
    {
     "data": {
      "application/vnd.jupyter.widget-view+json": {
       "model_id": "7ce51d0b993641dbb4dc1927d66d13bb",
       "version_major": 2,
       "version_minor": 0
      },
      "text/plain": [
       "Canvas(toolbar=Toolbar(toolitems=[('Home', 'Reset original view', 'home', 'home'), ('Back', 'Back to previous …"
      ]
     },
     "metadata": {},
     "output_type": "display_data"
    },
    {
     "name": "stderr",
     "output_type": "stream",
     "text": [
      "C:\\Anaconda\\lib\\site-packages\\ipykernel_launcher.py:9: RuntimeWarning: More than 20 figures have been opened. Figures created through the pyplot interface (`matplotlib.pyplot.figure`) are retained until explicitly closed and may consume too much memory. (To control this warning, see the rcParam `figure.max_open_warning`).\n",
      "  if __name__ == '__main__':\n"
     ]
    },
    {
     "data": {
      "application/vnd.jupyter.widget-view+json": {
       "model_id": "f4f1af93396040d5ae7125b6a3cc56c4",
       "version_major": 2,
       "version_minor": 0
      },
      "text/plain": [
       "Canvas(toolbar=Toolbar(toolitems=[('Home', 'Reset original view', 'home', 'home'), ('Back', 'Back to previous …"
      ]
     },
     "metadata": {},
     "output_type": "display_data"
    },
    {
     "name": "stderr",
     "output_type": "stream",
     "text": [
      "C:\\Anaconda\\lib\\site-packages\\ipykernel_launcher.py:9: RuntimeWarning: More than 20 figures have been opened. Figures created through the pyplot interface (`matplotlib.pyplot.figure`) are retained until explicitly closed and may consume too much memory. (To control this warning, see the rcParam `figure.max_open_warning`).\n",
      "  if __name__ == '__main__':\n"
     ]
    },
    {
     "data": {
      "application/vnd.jupyter.widget-view+json": {
       "model_id": "119d23e996ba4e96bc2a5d428ec64cda",
       "version_major": 2,
       "version_minor": 0
      },
      "text/plain": [
       "Canvas(toolbar=Toolbar(toolitems=[('Home', 'Reset original view', 'home', 'home'), ('Back', 'Back to previous …"
      ]
     },
     "metadata": {},
     "output_type": "display_data"
    },
    {
     "name": "stderr",
     "output_type": "stream",
     "text": [
      "C:\\Anaconda\\lib\\site-packages\\ipykernel_launcher.py:9: RuntimeWarning: More than 20 figures have been opened. Figures created through the pyplot interface (`matplotlib.pyplot.figure`) are retained until explicitly closed and may consume too much memory. (To control this warning, see the rcParam `figure.max_open_warning`).\n",
      "  if __name__ == '__main__':\n"
     ]
    },
    {
     "data": {
      "application/vnd.jupyter.widget-view+json": {
       "model_id": "f324d7505907453c85f93300b9897488",
       "version_major": 2,
       "version_minor": 0
      },
      "text/plain": [
       "Canvas(toolbar=Toolbar(toolitems=[('Home', 'Reset original view', 'home', 'home'), ('Back', 'Back to previous …"
      ]
     },
     "metadata": {},
     "output_type": "display_data"
    }
   ],
   "source": [
    "%matplotlib ipympl\n",
    "\n",
    "colors = itertools.cycle(cm.rainbow(np.linspace(0, 1, len(dfs))))\n",
    "i = 0\n",
    "figs = []\n",
    "ids = alldata['ID'].drop_duplicates().tolist()\n",
    "for test_id in ids:\n",
    "    test_id = int(test_id)\n",
    "    figs.append(plt.subplots(nrows=1))\n",
    "    fig, ax = figs[i]\n",
    "    test_df = alldata[alldata['ID']==test_id]\n",
    "    \n",
    "    BB_temp = test_df['BB temp'].tolist()[0]\n",
    "    HTC = test_df['fitted HTC'].tolist()[0]\n",
    "    position = test_df['position'].tolist()[0]\n",
    "    jet_temp = test_df['jet temp'].tolist()[0]\n",
    "    repeat = test_df['repeat'].tolist()[0]\n",
    "    emissivity = test_df['emissivity'].tolist()[0]\n",
    "    \n",
    "    label_string = f' HTC:{res[0]:.2f}, BB temp:{BB_temp:.2f}'\n",
    "    title_string = f' Position {position}, repeat {repeat}, jet temp {jet_temp}, emissivity {emissivity}' \n",
    "    \n",
    "    \n",
    "    ax.plot(test_df['time'], test_df['flux'], label = label_string, c='k', ls='-')\n",
    "    ax.plot(test_df[\"time\"], test_df['fitted surface flux'], c='r', ls='--')\n",
    "    ax.set_title(title_string)\n",
    "    i = i+1\n",
    "    plt.legend()\n",
    "    plt.xlabel('Time /s')\n",
    "    plt.ylabel('Surface Flux /W/m2')\n",
    "    #plt.xlim(0,400)\n",
    "    #plt.ylim(0,2200)\n",
    "    plt.grid()\n",
    "plt.show()"
   ]
  },
  {
   "cell_type": "code",
   "execution_count": 14,
   "metadata": {},
   "outputs": [
    {
     "ename": "NameError",
     "evalue": "name 'bounds' is not defined",
     "output_type": "error",
     "traceback": [
      "\u001b[1;31m---------------------------------------------------------------------------\u001b[0m",
      "\u001b[1;31mNameError\u001b[0m                                 Traceback (most recent call last)",
      "\u001b[1;32m<ipython-input-14-afe76cdbb5a9>\u001b[0m in \u001b[0;36m<module>\u001b[1;34m\u001b[0m\n\u001b[1;32m----> 1\u001b[1;33m \u001b[0mbounds\u001b[0m\u001b[1;33m\u001b[0m\u001b[1;33m\u001b[0m\u001b[0m\n\u001b[0m",
      "\u001b[1;31mNameError\u001b[0m: name 'bounds' is not defined"
     ]
    }
   ],
   "source": [
    "bounds"
   ]
  },
  {
   "cell_type": "code",
   "execution_count": 35,
   "metadata": {},
   "outputs": [
    {
     "data": {
      "text/plain": [
       "[0,\n",
       " 1,\n",
       " 10,\n",
       " 11,\n",
       " 19,\n",
       " 20,\n",
       " 28,\n",
       " 29,\n",
       " 2,\n",
       " 3,\n",
       " 12,\n",
       " 13,\n",
       " 21,\n",
       " 30,\n",
       " 31,\n",
       " 4,\n",
       " 5,\n",
       " 14,\n",
       " 15,\n",
       " 22,\n",
       " 23,\n",
       " 32,\n",
       " 33,\n",
       " 6,\n",
       " 7,\n",
       " 16,\n",
       " 17,\n",
       " 24,\n",
       " 25,\n",
       " 34,\n",
       " 35,\n",
       " 8,\n",
       " 9,\n",
       " 18,\n",
       " 26,\n",
       " 27,\n",
       " 36,\n",
       " 37]"
      ]
     },
     "execution_count": 35,
     "metadata": {},
     "output_type": "execute_result"
    }
   ],
   "source": [
    "alldata['ID'].drop_duplicates().tolist()"
   ]
  },
  {
   "cell_type": "code",
   "execution_count": 12,
   "metadata": {},
   "outputs": [
    {
     "data": {
      "text/plain": [
       "'150'"
      ]
     },
     "execution_count": 12,
     "metadata": {},
     "output_type": "execute_result"
    }
   ],
   "source": [
    "filenames[0][4:7]"
   ]
  },
  {
   "cell_type": "code",
   "execution_count": null,
   "metadata": {},
   "outputs": [],
   "source": [
    "%matplotlib tk\n",
    "df = dfs[2]\n",
    "plt.plot(df['time'],df[\"T23RAW\"])\n",
    "df = dfs[3]\n",
    "plt.plot(df['time'],df[\"T23RAW\"])\n",
    "plt.show()"
   ]
  },
  {
   "cell_type": "code",
   "execution_count": 20,
   "metadata": {},
   "outputs": [
    {
     "data": {
      "text/plain": [
       "31"
      ]
     },
     "execution_count": 20,
     "metadata": {},
     "output_type": "execute_result"
    }
   ],
   "source": [
    "len(start_ends)"
   ]
  },
  {
   "cell_type": "code",
   "execution_count": 22,
   "metadata": {},
   "outputs": [
    {
     "data": {
      "text/plain": [
       "32"
      ]
     },
     "execution_count": 22,
     "metadata": {},
     "output_type": "execute_result"
    }
   ],
   "source": [
    "len(dfs)"
   ]
  },
  {
   "cell_type": "code",
   "execution_count": 32,
   "metadata": {},
   "outputs": [
    {
     "data": {
      "text/html": [
       "<div>\n",
       "<style scoped>\n",
       "    .dataframe tbody tr th:only-of-type {\n",
       "        vertical-align: middle;\n",
       "    }\n",
       "\n",
       "    .dataframe tbody tr th {\n",
       "        vertical-align: top;\n",
       "    }\n",
       "\n",
       "    .dataframe thead th {\n",
       "        text-align: right;\n",
       "    }\n",
       "</style>\n",
       "<table border=\"1\" class=\"dataframe\">\n",
       "  <thead>\n",
       "    <tr style=\"text-align: right;\">\n",
       "      <th></th>\n",
       "      <th>index</th>\n",
       "      <th>time</th>\n",
       "      <th>T0RAW</th>\n",
       "      <th>T0</th>\n",
       "      <th>T1RAW</th>\n",
       "      <th>T1</th>\n",
       "      <th>T2RAW</th>\n",
       "      <th>T2</th>\n",
       "      <th>T3RAW</th>\n",
       "      <th>T3</th>\n",
       "      <th>...</th>\n",
       "      <th>perspex energy</th>\n",
       "      <th>ali energy</th>\n",
       "      <th>total energy</th>\n",
       "      <th>flux</th>\n",
       "      <th>HTC</th>\n",
       "      <th>fitted HTC</th>\n",
       "      <th>BB temp</th>\n",
       "      <th>fitted convective flux</th>\n",
       "      <th>fitted radiative flux</th>\n",
       "      <th>fitted surface flux</th>\n",
       "    </tr>\n",
       "  </thead>\n",
       "  <tbody>\n",
       "    <tr>\n",
       "      <th>13</th>\n",
       "      <td>1.597154e+09</td>\n",
       "      <td>0.0</td>\n",
       "      <td>24.336227</td>\n",
       "      <td>24.375649</td>\n",
       "      <td>24.468645</td>\n",
       "      <td>24.412343</td>\n",
       "      <td>24.379954</td>\n",
       "      <td>24.391628</td>\n",
       "      <td>24.395094</td>\n",
       "      <td>24.421569</td>\n",
       "      <td>...</td>\n",
       "      <td>0.000000</td>\n",
       "      <td>0.000000</td>\n",
       "      <td>0.000000e+00</td>\n",
       "      <td>NaN</td>\n",
       "      <td>NaN</td>\n",
       "      <td>33.836153</td>\n",
       "      <td>154.567261</td>\n",
       "      <td>3903.272298</td>\n",
       "      <td>1430.181506</td>\n",
       "      <td>5333.453804</td>\n",
       "    </tr>\n",
       "    <tr>\n",
       "      <th>14</th>\n",
       "      <td>1.597154e+09</td>\n",
       "      <td>5.0</td>\n",
       "      <td>24.284592</td>\n",
       "      <td>24.361952</td>\n",
       "      <td>24.391734</td>\n",
       "      <td>24.398238</td>\n",
       "      <td>24.401242</td>\n",
       "      <td>24.396158</td>\n",
       "      <td>24.495948</td>\n",
       "      <td>24.437040</td>\n",
       "      <td>...</td>\n",
       "      <td>10248.133481</td>\n",
       "      <td>17351.750629</td>\n",
       "      <td>2.759988e+04</td>\n",
       "      <td>5519.976822</td>\n",
       "      <td>46.752659</td>\n",
       "      <td>33.836153</td>\n",
       "      <td>154.567261</td>\n",
       "      <td>3994.955257</td>\n",
       "      <td>1407.961380</td>\n",
       "      <td>5402.916637</td>\n",
       "    </tr>\n",
       "    <tr>\n",
       "      <th>15</th>\n",
       "      <td>1.597154e+09</td>\n",
       "      <td>10.0</td>\n",
       "      <td>24.453233</td>\n",
       "      <td>24.351437</td>\n",
       "      <td>24.279535</td>\n",
       "      <td>24.385204</td>\n",
       "      <td>24.486175</td>\n",
       "      <td>24.393697</td>\n",
       "      <td>24.492029</td>\n",
       "      <td>24.441926</td>\n",
       "      <td>...</td>\n",
       "      <td>20527.013968</td>\n",
       "      <td>34275.930684</td>\n",
       "      <td>5.480294e+04</td>\n",
       "      <td>5440.612108</td>\n",
       "      <td>45.402824</td>\n",
       "      <td>33.836153</td>\n",
       "      <td>154.567261</td>\n",
       "      <td>4054.580075</td>\n",
       "      <td>1385.534905</td>\n",
       "      <td>5440.114980</td>\n",
       "    </tr>\n",
       "    <tr>\n",
       "      <th>16</th>\n",
       "      <td>1.597154e+09</td>\n",
       "      <td>15.0</td>\n",
       "      <td>24.365178</td>\n",
       "      <td>24.348657</td>\n",
       "      <td>24.250425</td>\n",
       "      <td>24.376500</td>\n",
       "      <td>24.268259</td>\n",
       "      <td>24.391557</td>\n",
       "      <td>24.343396</td>\n",
       "      <td>24.439369</td>\n",
       "      <td>...</td>\n",
       "      <td>31976.478856</td>\n",
       "      <td>51041.234450</td>\n",
       "      <td>8.301771e+04</td>\n",
       "      <td>5642.953731</td>\n",
       "      <td>47.030860</td>\n",
       "      <td>33.836153</td>\n",
       "      <td>154.567261</td>\n",
       "      <td>4059.799159</td>\n",
       "      <td>1362.568226</td>\n",
       "      <td>5422.367386</td>\n",
       "    </tr>\n",
       "    <tr>\n",
       "      <th>17</th>\n",
       "      <td>1.597154e+09</td>\n",
       "      <td>20.0</td>\n",
       "      <td>24.264766</td>\n",
       "      <td>24.355355</td>\n",
       "      <td>24.487084</td>\n",
       "      <td>24.370111</td>\n",
       "      <td>24.326317</td>\n",
       "      <td>24.398579</td>\n",
       "      <td>24.420856</td>\n",
       "      <td>24.435528</td>\n",
       "      <td>...</td>\n",
       "      <td>43192.589799</td>\n",
       "      <td>65920.765368</td>\n",
       "      <td>1.091134e+05</td>\n",
       "      <td>5219.128372</td>\n",
       "      <td>43.920014</td>\n",
       "      <td>33.836153</td>\n",
       "      <td>154.567261</td>\n",
       "      <td>4020.837194</td>\n",
       "      <td>1341.545606</td>\n",
       "      <td>5362.382800</td>\n",
       "    </tr>\n",
       "    <tr>\n",
       "      <th>18</th>\n",
       "      <td>1.597154e+09</td>\n",
       "      <td>25.0</td>\n",
       "      <td>24.327246</td>\n",
       "      <td>24.368952</td>\n",
       "      <td>24.452347</td>\n",
       "      <td>24.361838</td>\n",
       "      <td>24.451410</td>\n",
       "      <td>24.418805</td>\n",
       "      <td>24.407629</td>\n",
       "      <td>24.434398</td>\n",
       "      <td>...</td>\n",
       "      <td>52578.182239</td>\n",
       "      <td>79325.682350</td>\n",
       "      <td>1.319039e+05</td>\n",
       "      <td>4558.101885</td>\n",
       "      <td>39.054507</td>\n",
       "      <td>33.836153</td>\n",
       "      <td>154.567261</td>\n",
       "      <td>3949.061084</td>\n",
       "      <td>1322.081551</td>\n",
       "      <td>5271.142634</td>\n",
       "    </tr>\n",
       "    <tr>\n",
       "      <th>19</th>\n",
       "      <td>1.597154e+09</td>\n",
       "      <td>30.0</td>\n",
       "      <td>24.439988</td>\n",
       "      <td>24.383300</td>\n",
       "      <td>24.350000</td>\n",
       "      <td>24.350559</td>\n",
       "      <td>24.485493</td>\n",
       "      <td>24.448367</td>\n",
       "      <td>24.440642</td>\n",
       "      <td>24.434995</td>\n",
       "      <td>...</td>\n",
       "      <td>64114.812249</td>\n",
       "      <td>92608.282240</td>\n",
       "      <td>1.567231e+05</td>\n",
       "      <td>4963.845980</td>\n",
       "      <td>43.557958</td>\n",
       "      <td>33.836153</td>\n",
       "      <td>154.567261</td>\n",
       "      <td>3855.953270</td>\n",
       "      <td>1302.295601</td>\n",
       "      <td>5158.248871</td>\n",
       "    </tr>\n",
       "    <tr>\n",
       "      <th>20</th>\n",
       "      <td>1.597154e+09</td>\n",
       "      <td>35.0</td>\n",
       "      <td>24.500000</td>\n",
       "      <td>24.392333</td>\n",
       "      <td>24.270756</td>\n",
       "      <td>24.340406</td>\n",
       "      <td>24.500000</td>\n",
       "      <td>24.477691</td>\n",
       "      <td>24.439814</td>\n",
       "      <td>24.432922</td>\n",
       "      <td>...</td>\n",
       "      <td>75712.485196</td>\n",
       "      <td>104454.039288</td>\n",
       "      <td>1.801665e+05</td>\n",
       "      <td>4688.685999</td>\n",
       "      <td>42.100623</td>\n",
       "      <td>33.836153</td>\n",
       "      <td>154.567261</td>\n",
       "      <td>3768.283822</td>\n",
       "      <td>1284.223642</td>\n",
       "      <td>5052.507464</td>\n",
       "    </tr>\n",
       "    <tr>\n",
       "      <th>21</th>\n",
       "      <td>1.597154e+09</td>\n",
       "      <td>40.0</td>\n",
       "      <td>24.320775</td>\n",
       "      <td>24.394281</td>\n",
       "      <td>24.262395</td>\n",
       "      <td>24.337880</td>\n",
       "      <td>24.500000</td>\n",
       "      <td>24.496825</td>\n",
       "      <td>24.500000</td>\n",
       "      <td>24.424841</td>\n",
       "      <td>...</td>\n",
       "      <td>87281.099861</td>\n",
       "      <td>116576.952524</td>\n",
       "      <td>2.038581e+05</td>\n",
       "      <td>4738.305580</td>\n",
       "      <td>43.522593</td>\n",
       "      <td>33.836153</td>\n",
       "      <td>154.567261</td>\n",
       "      <td>3683.742677</td>\n",
       "      <td>1265.306088</td>\n",
       "      <td>4949.048765</td>\n",
       "    </tr>\n",
       "    <tr>\n",
       "      <th>22</th>\n",
       "      <td>1.597154e+09</td>\n",
       "      <td>45.0</td>\n",
       "      <td>24.453277</td>\n",
       "      <td>24.392878</td>\n",
       "      <td>24.391337</td>\n",
       "      <td>24.346897</td>\n",
       "      <td>24.480803</td>\n",
       "      <td>24.500075</td>\n",
       "      <td>24.453805</td>\n",
       "      <td>24.412045</td>\n",
       "      <td>...</td>\n",
       "      <td>97217.221299</td>\n",
       "      <td>126959.006296</td>\n",
       "      <td>2.241762e+05</td>\n",
       "      <td>4063.635042</td>\n",
       "      <td>38.009198</td>\n",
       "      <td>33.836153</td>\n",
       "      <td>154.567261</td>\n",
       "      <td>3617.486923</td>\n",
       "      <td>1248.760254</td>\n",
       "      <td>4866.247177</td>\n",
       "    </tr>\n",
       "    <tr>\n",
       "      <th>23</th>\n",
       "      <td>1.597154e+09</td>\n",
       "      <td>50.0</td>\n",
       "      <td>24.292470</td>\n",
       "      <td>24.394549</td>\n",
       "      <td>24.372373</td>\n",
       "      <td>24.366119</td>\n",
       "      <td>24.500000</td>\n",
       "      <td>24.487625</td>\n",
       "      <td>24.253111</td>\n",
       "      <td>24.399994</td>\n",
       "      <td>...</td>\n",
       "      <td>108903.477671</td>\n",
       "      <td>137117.016394</td>\n",
       "      <td>2.460205e+05</td>\n",
       "      <td>4368.853294</td>\n",
       "      <td>41.571188</td>\n",
       "      <td>33.836153</td>\n",
       "      <td>154.567261</td>\n",
       "      <td>3555.952972</td>\n",
       "      <td>1232.259324</td>\n",
       "      <td>4788.212297</td>\n",
       "    </tr>\n",
       "    <tr>\n",
       "      <th>24</th>\n",
       "      <td>1.597154e+09</td>\n",
       "      <td>55.0</td>\n",
       "      <td>24.429977</td>\n",
       "      <td>24.403887</td>\n",
       "      <td>24.457573</td>\n",
       "      <td>24.390189</td>\n",
       "      <td>24.456493</td>\n",
       "      <td>24.464241</td>\n",
       "      <td>24.360372</td>\n",
       "      <td>24.393925</td>\n",
       "      <td>...</td>\n",
       "      <td>122269.538599</td>\n",
       "      <td>147336.379059</td>\n",
       "      <td>2.696059e+05</td>\n",
       "      <td>4717.084719</td>\n",
       "      <td>45.686173</td>\n",
       "      <td>33.836153</td>\n",
       "      <td>154.567261</td>\n",
       "      <td>3493.573477</td>\n",
       "      <td>1215.343208</td>\n",
       "      <td>4708.916686</td>\n",
       "    </tr>\n",
       "    <tr>\n",
       "      <th>25</th>\n",
       "      <td>1.597154e+09</td>\n",
       "      <td>60.0</td>\n",
       "      <td>24.469259</td>\n",
       "      <td>24.420518</td>\n",
       "      <td>24.301227</td>\n",
       "      <td>24.412904</td>\n",
       "      <td>24.300000</td>\n",
       "      <td>24.436688</td>\n",
       "      <td>24.490478</td>\n",
       "      <td>24.394169</td>\n",
       "      <td>...</td>\n",
       "      <td>134683.203736</td>\n",
       "      <td>156301.147784</td>\n",
       "      <td>2.909844e+05</td>\n",
       "      <td>4275.686772</td>\n",
       "      <td>42.086052</td>\n",
       "      <td>33.836153</td>\n",
       "      <td>154.567261</td>\n",
       "      <td>3437.547250</td>\n",
       "      <td>1200.240093</td>\n",
       "      <td>4637.787343</td>\n",
       "    </tr>\n",
       "    <tr>\n",
       "      <th>26</th>\n",
       "      <td>1.597154e+09</td>\n",
       "      <td>65.0</td>\n",
       "      <td>24.394365</td>\n",
       "      <td>24.439036</td>\n",
       "      <td>24.412694</td>\n",
       "      <td>24.429677</td>\n",
       "      <td>24.500000</td>\n",
       "      <td>24.411588</td>\n",
       "      <td>24.320000</td>\n",
       "      <td>24.395362</td>\n",
       "      <td>...</td>\n",
       "      <td>150431.481720</td>\n",
       "      <td>165277.555799</td>\n",
       "      <td>3.157090e+05</td>\n",
       "      <td>4944.937200</td>\n",
       "      <td>49.512043</td>\n",
       "      <td>33.836153</td>\n",
       "      <td>154.567261</td>\n",
       "      <td>3379.332424</td>\n",
       "      <td>1184.867559</td>\n",
       "      <td>4564.199984</td>\n",
       "    </tr>\n",
       "    <tr>\n",
       "      <th>27</th>\n",
       "      <td>1.597154e+09</td>\n",
       "      <td>70.0</td>\n",
       "      <td>24.500000</td>\n",
       "      <td>24.451879</td>\n",
       "      <td>24.500000</td>\n",
       "      <td>24.438526</td>\n",
       "      <td>24.500000</td>\n",
       "      <td>24.394507</td>\n",
       "      <td>24.471540</td>\n",
       "      <td>24.390432</td>\n",
       "      <td>...</td>\n",
       "      <td>162045.795094</td>\n",
       "      <td>174232.222787</td>\n",
       "      <td>3.362780e+05</td>\n",
       "      <td>4113.796073</td>\n",
       "      <td>41.921812</td>\n",
       "      <td>33.836153</td>\n",
       "      <td>154.567261</td>\n",
       "      <td>3320.348698</td>\n",
       "      <td>1169.280469</td>\n",
       "      <td>4489.629167</td>\n",
       "    </tr>\n",
       "    <tr>\n",
       "      <th>28</th>\n",
       "      <td>1.597154e+09</td>\n",
       "      <td>75.0</td>\n",
       "      <td>24.437897</td>\n",
       "      <td>24.453725</td>\n",
       "      <td>24.500000</td>\n",
       "      <td>24.440175</td>\n",
       "      <td>24.287718</td>\n",
       "      <td>24.389501</td>\n",
       "      <td>24.471253</td>\n",
       "      <td>24.376519</td>\n",
       "      <td>...</td>\n",
       "      <td>175383.500977</td>\n",
       "      <td>181920.470497</td>\n",
       "      <td>3.573040e+05</td>\n",
       "      <td>4205.190719</td>\n",
       "      <td>43.509251</td>\n",
       "      <td>33.836153</td>\n",
       "      <td>154.567261</td>\n",
       "      <td>3270.280970</td>\n",
       "      <td>1155.695061</td>\n",
       "      <td>4425.976031</td>\n",
       "    </tr>\n",
       "    <tr>\n",
       "      <th>29</th>\n",
       "      <td>1.597154e+09</td>\n",
       "      <td>80.0</td>\n",
       "      <td>24.491442</td>\n",
       "      <td>24.445089</td>\n",
       "      <td>24.281833</td>\n",
       "      <td>24.437273</td>\n",
       "      <td>24.384741</td>\n",
       "      <td>24.397901</td>\n",
       "      <td>24.352784</td>\n",
       "      <td>24.358391</td>\n",
       "      <td>...</td>\n",
       "      <td>189281.858095</td>\n",
       "      <td>190067.341904</td>\n",
       "      <td>3.793492e+05</td>\n",
       "      <td>4409.045705</td>\n",
       "      <td>46.363581</td>\n",
       "      <td>33.836153</td>\n",
       "      <td>154.567261</td>\n",
       "      <td>3217.722660</td>\n",
       "      <td>1141.092813</td>\n",
       "      <td>4358.815473</td>\n",
       "    </tr>\n",
       "    <tr>\n",
       "      <th>30</th>\n",
       "      <td>1.597154e+09</td>\n",
       "      <td>85.0</td>\n",
       "      <td>24.480571</td>\n",
       "      <td>24.432757</td>\n",
       "      <td>24.398968</td>\n",
       "      <td>24.432679</td>\n",
       "      <td>24.411814</td>\n",
       "      <td>24.416996</td>\n",
       "      <td>24.250000</td>\n",
       "      <td>24.346114</td>\n",
       "      <td>...</td>\n",
       "      <td>204606.776522</td>\n",
       "      <td>198428.102645</td>\n",
       "      <td>4.030349e+05</td>\n",
       "      <td>4737.135834</td>\n",
       "      <td>50.659025</td>\n",
       "      <td>33.836153</td>\n",
       "      <td>154.567261</td>\n",
       "      <td>3164.025601</td>\n",
       "      <td>1125.884200</td>\n",
       "      <td>4289.909801</td>\n",
       "    </tr>\n",
       "    <tr>\n",
       "      <th>31</th>\n",
       "      <td>1.597154e+09</td>\n",
       "      <td>90.0</td>\n",
       "      <td>24.340369</td>\n",
       "      <td>24.426407</td>\n",
       "      <td>24.461014</td>\n",
       "      <td>24.428155</td>\n",
       "      <td>24.450841</td>\n",
       "      <td>24.440517</td>\n",
       "      <td>24.250000</td>\n",
       "      <td>24.348076</td>\n",
       "      <td>...</td>\n",
       "      <td>216554.174728</td>\n",
       "      <td>205338.652757</td>\n",
       "      <td>4.218928e+05</td>\n",
       "      <td>3771.589664</td>\n",
       "      <td>40.902922</td>\n",
       "      <td>33.836153</td>\n",
       "      <td>154.567261</td>\n",
       "      <td>3119.974772</td>\n",
       "      <td>1113.141485</td>\n",
       "      <td>4233.116258</td>\n",
       "    </tr>\n",
       "    <tr>\n",
       "      <th>32</th>\n",
       "      <td>1.597154e+09</td>\n",
       "      <td>95.0</td>\n",
       "      <td>24.371938</td>\n",
       "      <td>24.433028</td>\n",
       "      <td>24.500000</td>\n",
       "      <td>24.424864</td>\n",
       "      <td>24.500000</td>\n",
       "      <td>24.461325</td>\n",
       "      <td>24.487696</td>\n",
       "      <td>24.364776</td>\n",
       "      <td>...</td>\n",
       "      <td>229920.771598</td>\n",
       "      <td>212495.869749</td>\n",
       "      <td>4.424166e+05</td>\n",
       "      <td>4104.762772</td>\n",
       "      <td>45.188972</td>\n",
       "      <td>33.836153</td>\n",
       "      <td>154.567261</td>\n",
       "      <td>3073.523838</td>\n",
       "      <td>1099.778270</td>\n",
       "      <td>4173.302108</td>\n",
       "    </tr>\n",
       "    <tr>\n",
       "      <th>33</th>\n",
       "      <td>1.597154e+09</td>\n",
       "      <td>100.0</td>\n",
       "      <td>24.500000</td>\n",
       "      <td>24.452427</td>\n",
       "      <td>24.465904</td>\n",
       "      <td>24.424661</td>\n",
       "      <td>24.456569</td>\n",
       "      <td>24.474484</td>\n",
       "      <td>24.368820</td>\n",
       "      <td>24.388483</td>\n",
       "      <td>...</td>\n",
       "      <td>244411.877436</td>\n",
       "      <td>219570.480980</td>\n",
       "      <td>4.639824e+05</td>\n",
       "      <td>4313.143414</td>\n",
       "      <td>48.212717</td>\n",
       "      <td>33.836153</td>\n",
       "      <td>154.567261</td>\n",
       "      <td>3027.005913</td>\n",
       "      <td>1086.402248</td>\n",
       "      <td>4113.408161</td>\n",
       "    </tr>\n",
       "    <tr>\n",
       "      <th>34</th>\n",
       "      <td>1.597154e+09</td>\n",
       "      <td>105.0</td>\n",
       "      <td>24.500000</td>\n",
       "      <td>24.476901</td>\n",
       "      <td>24.319448</td>\n",
       "      <td>24.429755</td>\n",
       "      <td>24.500000</td>\n",
       "      <td>24.478673</td>\n",
       "      <td>24.470277</td>\n",
       "      <td>24.408887</td>\n",
       "      <td>...</td>\n",
       "      <td>257421.667241</td>\n",
       "      <td>226178.927836</td>\n",
       "      <td>4.836006e+05</td>\n",
       "      <td>3923.647332</td>\n",
       "      <td>44.498443</td>\n",
       "      <td>33.836153</td>\n",
       "      <td>154.567261</td>\n",
       "      <td>2983.500632</td>\n",
       "      <td>1073.756361</td>\n",
       "      <td>4057.256993</td>\n",
       "    </tr>\n",
       "    <tr>\n",
       "      <th>35</th>\n",
       "      <td>1.597154e+09</td>\n",
       "      <td>110.0</td>\n",
       "      <td>24.467878</td>\n",
       "      <td>24.495168</td>\n",
       "      <td>24.394262</td>\n",
       "      <td>24.440318</td>\n",
       "      <td>24.411640</td>\n",
       "      <td>24.475367</td>\n",
       "      <td>24.500000</td>\n",
       "      <td>24.420174</td>\n",
       "      <td>...</td>\n",
       "      <td>270455.461223</td>\n",
       "      <td>232970.677765</td>\n",
       "      <td>5.034261e+05</td>\n",
       "      <td>3965.108782</td>\n",
       "      <td>45.648919</td>\n",
       "      <td>33.836153</td>\n",
       "      <td>154.567261</td>\n",
       "      <td>2939.040608</td>\n",
       "      <td>1060.606257</td>\n",
       "      <td>3999.646865</td>\n",
       "    </tr>\n",
       "    <tr>\n",
       "      <th>36</th>\n",
       "      <td>1.597154e+09</td>\n",
       "      <td>115.0</td>\n",
       "      <td>24.500000</td>\n",
       "      <td>24.497970</td>\n",
       "      <td>24.500000</td>\n",
       "      <td>24.452732</td>\n",
       "      <td>24.495791</td>\n",
       "      <td>24.466974</td>\n",
       "      <td>24.335520</td>\n",
       "      <td>24.424302</td>\n",
       "      <td>...</td>\n",
       "      <td>287297.209477</td>\n",
       "      <td>240154.190846</td>\n",
       "      <td>5.274514e+05</td>\n",
       "      <td>4805.052267</td>\n",
       "      <td>56.211461</td>\n",
       "      <td>33.836153</td>\n",
       "      <td>154.567261</td>\n",
       "      <td>2892.372526</td>\n",
       "      <td>1046.527003</td>\n",
       "      <td>3938.899529</td>\n",
       "    </tr>\n",
       "    <tr>\n",
       "      <th>37</th>\n",
       "      <td>1.597154e+09</td>\n",
       "      <td>120.0</td>\n",
       "      <td>24.500000</td>\n",
       "      <td>24.482479</td>\n",
       "      <td>24.500000</td>\n",
       "      <td>24.461197</td>\n",
       "      <td>24.500000</td>\n",
       "      <td>24.455644</td>\n",
       "      <td>24.377125</td>\n",
       "      <td>24.428195</td>\n",
       "      <td>...</td>\n",
       "      <td>300944.566125</td>\n",
       "      <td>245671.111363</td>\n",
       "      <td>5.466157e+05</td>\n",
       "      <td>3832.855433</td>\n",
       "      <td>45.388274</td>\n",
       "      <td>33.836153</td>\n",
       "      <td>154.567261</td>\n",
       "      <td>2857.325722</td>\n",
       "      <td>1035.594183</td>\n",
       "      <td>3892.919905</td>\n",
       "    </tr>\n",
       "    <tr>\n",
       "      <th>38</th>\n",
       "      <td>1.597154e+09</td>\n",
       "      <td>125.0</td>\n",
       "      <td>24.500000</td>\n",
       "      <td>24.453780</td>\n",
       "      <td>24.481291</td>\n",
       "      <td>24.461866</td>\n",
       "      <td>24.500000</td>\n",
       "      <td>24.443431</td>\n",
       "      <td>24.388254</td>\n",
       "      <td>24.437234</td>\n",
       "      <td>...</td>\n",
       "      <td>314394.989779</td>\n",
       "      <td>251025.152690</td>\n",
       "      <td>5.654201e+05</td>\n",
       "      <td>3760.892996</td>\n",
       "      <td>45.077969</td>\n",
       "      <td>33.836153</td>\n",
       "      <td>154.567261</td>\n",
       "      <td>2822.978788</td>\n",
       "      <td>1024.883772</td>\n",
       "      <td>3847.862560</td>\n",
       "    </tr>\n",
       "    <tr>\n",
       "      <th>39</th>\n",
       "      <td>1.597154e+09</td>\n",
       "      <td>130.0</td>\n",
       "      <td>24.397175</td>\n",
       "      <td>24.422796</td>\n",
       "      <td>24.480744</td>\n",
       "      <td>24.455789</td>\n",
       "      <td>24.384899</td>\n",
       "      <td>24.432861</td>\n",
       "      <td>24.500000</td>\n",
       "      <td>24.450433</td>\n",
       "      <td>...</td>\n",
       "      <td>328807.803572</td>\n",
       "      <td>257612.602047</td>\n",
       "      <td>5.864204e+05</td>\n",
       "      <td>4200.052630</td>\n",
       "      <td>51.134193</td>\n",
       "      <td>33.836153</td>\n",
       "      <td>154.567261</td>\n",
       "      <td>2779.228829</td>\n",
       "      <td>1011.569446</td>\n",
       "      <td>3790.798275</td>\n",
       "    </tr>\n",
       "    <tr>\n",
       "      <th>40</th>\n",
       "      <td>1.597155e+09</td>\n",
       "      <td>135.0</td>\n",
       "      <td>24.323796</td>\n",
       "      <td>24.401365</td>\n",
       "      <td>24.349988</td>\n",
       "      <td>24.448073</td>\n",
       "      <td>24.345581</td>\n",
       "      <td>24.426571</td>\n",
       "      <td>24.500000</td>\n",
       "      <td>24.461216</td>\n",
       "      <td>...</td>\n",
       "      <td>340456.464292</td>\n",
       "      <td>262139.509397</td>\n",
       "      <td>6.025960e+05</td>\n",
       "      <td>3235.113614</td>\n",
       "      <td>39.825120</td>\n",
       "      <td>33.836153</td>\n",
       "      <td>154.567261</td>\n",
       "      <td>2748.611932</td>\n",
       "      <td>1002.331918</td>\n",
       "      <td>3750.943850</td>\n",
       "    </tr>\n",
       "    <tr>\n",
       "      <th>41</th>\n",
       "      <td>1.597155e+09</td>\n",
       "      <td>140.0</td>\n",
       "      <td>24.415817</td>\n",
       "      <td>24.396952</td>\n",
       "      <td>24.393151</td>\n",
       "      <td>24.444006</td>\n",
       "      <td>24.445814</td>\n",
       "      <td>24.426205</td>\n",
       "      <td>24.500000</td>\n",
       "      <td>24.462765</td>\n",
       "      <td>...</td>\n",
       "      <td>354543.103042</td>\n",
       "      <td>267184.388117</td>\n",
       "      <td>6.217275e+05</td>\n",
       "      <td>3826.303494</td>\n",
       "      <td>47.704315</td>\n",
       "      <td>33.836153</td>\n",
       "      <td>154.567261</td>\n",
       "      <td>2713.955564</td>\n",
       "      <td>991.952545</td>\n",
       "      <td>3705.908109</td>\n",
       "    </tr>\n",
       "    <tr>\n",
       "      <th>42</th>\n",
       "      <td>1.597155e+09</td>\n",
       "      <td>145.0</td>\n",
       "      <td>24.436138</td>\n",
       "      <td>24.410071</td>\n",
       "      <td>24.500000</td>\n",
       "      <td>24.445477</td>\n",
       "      <td>24.466239</td>\n",
       "      <td>24.431763</td>\n",
       "      <td>24.500000</td>\n",
       "      <td>24.453269</td>\n",
       "      <td>...</td>\n",
       "      <td>368815.567947</td>\n",
       "      <td>272685.869995</td>\n",
       "      <td>6.415014e+05</td>\n",
       "      <td>3954.789356</td>\n",
       "      <td>49.995167</td>\n",
       "      <td>33.836153</td>\n",
       "      <td>154.567261</td>\n",
       "      <td>2676.555889</td>\n",
       "      <td>980.531175</td>\n",
       "      <td>3657.087064</td>\n",
       "    </tr>\n",
       "    <tr>\n",
       "      <th>43</th>\n",
       "      <td>1.597155e+09</td>\n",
       "      <td>150.0</td>\n",
       "      <td>24.500000</td>\n",
       "      <td>24.435396</td>\n",
       "      <td>24.500000</td>\n",
       "      <td>24.450530</td>\n",
       "      <td>24.484679</td>\n",
       "      <td>24.441913</td>\n",
       "      <td>24.315481</td>\n",
       "      <td>24.437057</td>\n",
       "      <td>...</td>\n",
       "      <td>382373.637565</td>\n",
       "      <td>276616.596449</td>\n",
       "      <td>6.589902e+05</td>\n",
       "      <td>3497.759214</td>\n",
       "      <td>44.642159</td>\n",
       "      <td>33.836153</td>\n",
       "      <td>154.567261</td>\n",
       "      <td>2651.097484</td>\n",
       "      <td>972.304870</td>\n",
       "      <td>3623.402354</td>\n",
       "    </tr>\n",
       "    <tr>\n",
       "      <th>44</th>\n",
       "      <td>1.597155e+09</td>\n",
       "      <td>155.0</td>\n",
       "      <td>24.374291</td>\n",
       "      <td>24.464604</td>\n",
       "      <td>24.385374</td>\n",
       "      <td>24.455722</td>\n",
       "      <td>24.402964</td>\n",
       "      <td>24.454511</td>\n",
       "      <td>24.378003</td>\n",
       "      <td>24.421328</td>\n",
       "      <td>...</td>\n",
       "      <td>395469.630439</td>\n",
       "      <td>281852.473449</td>\n",
       "      <td>6.773221e+05</td>\n",
       "      <td>3666.373975</td>\n",
       "      <td>47.384448</td>\n",
       "      <td>33.836153</td>\n",
       "      <td>154.567261</td>\n",
       "      <td>2618.073982</td>\n",
       "      <td>961.261322</td>\n",
       "      <td>3579.335304</td>\n",
       "    </tr>\n",
       "    <tr>\n",
       "      <th>45</th>\n",
       "      <td>1.597155e+09</td>\n",
       "      <td>160.0</td>\n",
       "      <td>24.500000</td>\n",
       "      <td>24.488634</td>\n",
       "      <td>24.500000</td>\n",
       "      <td>24.458687</td>\n",
       "      <td>24.497741</td>\n",
       "      <td>24.466637</td>\n",
       "      <td>24.500000</td>\n",
       "      <td>24.411667</td>\n",
       "      <td>...</td>\n",
       "      <td>409167.668790</td>\n",
       "      <td>286178.742926</td>\n",
       "      <td>6.953464e+05</td>\n",
       "      <td>3604.861565</td>\n",
       "      <td>47.053820</td>\n",
       "      <td>33.836153</td>\n",
       "      <td>154.567261</td>\n",
       "      <td>2592.236869</td>\n",
       "      <td>952.061998</td>\n",
       "      <td>3544.298867</td>\n",
       "    </tr>\n",
       "    <tr>\n",
       "      <th>46</th>\n",
       "      <td>1.597155e+09</td>\n",
       "      <td>165.0</td>\n",
       "      <td>24.500000</td>\n",
       "      <td>24.499226</td>\n",
       "      <td>24.500000</td>\n",
       "      <td>24.459123</td>\n",
       "      <td>24.453404</td>\n",
       "      <td>24.474719</td>\n",
       "      <td>24.425390</td>\n",
       "      <td>24.409848</td>\n",
       "      <td>...</td>\n",
       "      <td>422679.384398</td>\n",
       "      <td>290260.288340</td>\n",
       "      <td>7.129397e+05</td>\n",
       "      <td>3518.652204</td>\n",
       "      <td>46.356709</td>\n",
       "      <td>33.836153</td>\n",
       "      <td>154.567261</td>\n",
       "      <td>2568.293940</td>\n",
       "      <td>943.321077</td>\n",
       "      <td>3511.615018</td>\n",
       "    </tr>\n",
       "    <tr>\n",
       "      <th>47</th>\n",
       "      <td>1.597155e+09</td>\n",
       "      <td>170.0</td>\n",
       "      <td>24.452984</td>\n",
       "      <td>24.491092</td>\n",
       "      <td>24.320575</td>\n",
       "      <td>24.458200</td>\n",
       "      <td>24.500000</td>\n",
       "      <td>24.475649</td>\n",
       "      <td>24.350000</td>\n",
       "      <td>24.414418</td>\n",
       "      <td>...</td>\n",
       "      <td>436233.419152</td>\n",
       "      <td>294592.127715</td>\n",
       "      <td>7.308255e+05</td>\n",
       "      <td>3577.174826</td>\n",
       "      <td>47.608788</td>\n",
       "      <td>33.836153</td>\n",
       "      <td>154.567261</td>\n",
       "      <td>2542.342281</td>\n",
       "      <td>933.977999</td>\n",
       "      <td>3476.320280</td>\n",
       "    </tr>\n",
       "    <tr>\n",
       "      <th>48</th>\n",
       "      <td>1.597155e+09</td>\n",
       "      <td>175.0</td>\n",
       "      <td>24.500000</td>\n",
       "      <td>24.465128</td>\n",
       "      <td>24.500000</td>\n",
       "      <td>24.457236</td>\n",
       "      <td>24.500000</td>\n",
       "      <td>24.468646</td>\n",
       "      <td>24.435182</td>\n",
       "      <td>24.422373</td>\n",
       "      <td>...</td>\n",
       "      <td>448402.790794</td>\n",
       "      <td>298523.107112</td>\n",
       "      <td>7.469259e+05</td>\n",
       "      <td>3220.070208</td>\n",
       "      <td>43.258316</td>\n",
       "      <td>33.836153</td>\n",
       "      <td>154.567261</td>\n",
       "      <td>2518.701574</td>\n",
       "      <td>925.440296</td>\n",
       "      <td>3444.141870</td>\n",
       "    </tr>\n",
       "    <tr>\n",
       "      <th>49</th>\n",
       "      <td>1.597155e+09</td>\n",
       "      <td>180.0</td>\n",
       "      <td>24.471236</td>\n",
       "      <td>24.431100</td>\n",
       "      <td>24.500000</td>\n",
       "      <td>24.456614</td>\n",
       "      <td>24.500000</td>\n",
       "      <td>24.456432</td>\n",
       "      <td>24.463964</td>\n",
       "      <td>24.430835</td>\n",
       "      <td>...</td>\n",
       "      <td>461764.867602</td>\n",
       "      <td>302991.794730</td>\n",
       "      <td>7.647567e+05</td>\n",
       "      <td>3566.152885</td>\n",
       "      <td>48.443431</td>\n",
       "      <td>33.836153</td>\n",
       "      <td>154.567261</td>\n",
       "      <td>2490.841234</td>\n",
       "      <td>915.665989</td>\n",
       "      <td>3406.507223</td>\n",
       "    </tr>\n",
       "    <tr>\n",
       "      <th>50</th>\n",
       "      <td>1.597155e+09</td>\n",
       "      <td>185.0</td>\n",
       "      <td>24.399692</td>\n",
       "      <td>24.407144</td>\n",
       "      <td>24.382503</td>\n",
       "      <td>24.455669</td>\n",
       "      <td>24.334255</td>\n",
       "      <td>24.444371</td>\n",
       "      <td>24.477730</td>\n",
       "      <td>24.438421</td>\n",
       "      <td>...</td>\n",
       "      <td>474879.929338</td>\n",
       "      <td>307274.945297</td>\n",
       "      <td>7.821549e+05</td>\n",
       "      <td>3479.642460</td>\n",
       "      <td>47.795541</td>\n",
       "      <td>33.836153</td>\n",
       "      <td>154.567261</td>\n",
       "      <td>2463.361883</td>\n",
       "      <td>906.228515</td>\n",
       "      <td>3369.590397</td>\n",
       "    </tr>\n",
       "    <tr>\n",
       "      <th>51</th>\n",
       "      <td>1.597155e+09</td>\n",
       "      <td>190.0</td>\n",
       "      <td>24.500000</td>\n",
       "      <td>24.414233</td>\n",
       "      <td>24.500000</td>\n",
       "      <td>24.453446</td>\n",
       "      <td>24.465039</td>\n",
       "      <td>24.437853</td>\n",
       "      <td>24.466850</td>\n",
       "      <td>24.445760</td>\n",
       "      <td>...</td>\n",
       "      <td>488520.187814</td>\n",
       "      <td>311359.430588</td>\n",
       "      <td>7.998796e+05</td>\n",
       "      <td>3544.948754</td>\n",
       "      <td>49.243064</td>\n",
       "      <td>33.836153</td>\n",
       "      <td>154.567261</td>\n",
       "      <td>2435.823851</td>\n",
       "      <td>897.165576</td>\n",
       "      <td>3332.989428</td>\n",
       "    </tr>\n",
       "    <tr>\n",
       "      <th>52</th>\n",
       "      <td>1.597155e+09</td>\n",
       "      <td>195.0</td>\n",
       "      <td>24.416279</td>\n",
       "      <td>24.466369</td>\n",
       "      <td>24.459378</td>\n",
       "      <td>24.449792</td>\n",
       "      <td>24.500000</td>\n",
       "      <td>24.439784</td>\n",
       "      <td>24.340845</td>\n",
       "      <td>24.454592</td>\n",
       "      <td>...</td>\n",
       "      <td>499485.292938</td>\n",
       "      <td>314931.392135</td>\n",
       "      <td>8.144167e+05</td>\n",
       "      <td>2907.413334</td>\n",
       "      <td>40.815438</td>\n",
       "      <td>33.836153</td>\n",
       "      <td>154.567261</td>\n",
       "      <td>2410.256722</td>\n",
       "      <td>889.189062</td>\n",
       "      <td>3299.445784</td>\n",
       "    </tr>\n",
       "    <tr>\n",
       "      <th>53</th>\n",
       "      <td>1.597155e+09</td>\n",
       "      <td>200.0</td>\n",
       "      <td>24.500000</td>\n",
       "      <td>24.560446</td>\n",
       "      <td>24.446731</td>\n",
       "      <td>24.446048</td>\n",
       "      <td>24.387487</td>\n",
       "      <td>24.449794</td>\n",
       "      <td>24.483103</td>\n",
       "      <td>24.465982</td>\n",
       "      <td>...</td>\n",
       "      <td>513147.955997</td>\n",
       "      <td>318496.364099</td>\n",
       "      <td>8.316443e+05</td>\n",
       "      <td>3445.527005</td>\n",
       "      <td>48.900737</td>\n",
       "      <td>33.836153</td>\n",
       "      <td>154.567261</td>\n",
       "      <td>2384.082238</td>\n",
       "      <td>881.180700</td>\n",
       "      <td>3265.262938</td>\n",
       "    </tr>\n",
       "    <tr>\n",
       "      <th>54</th>\n",
       "      <td>1.597155e+09</td>\n",
       "      <td>205.0</td>\n",
       "      <td>24.500000</td>\n",
       "      <td>24.671957</td>\n",
       "      <td>24.497273</td>\n",
       "      <td>24.444599</td>\n",
       "      <td>24.498560</td>\n",
       "      <td>24.464945</td>\n",
       "      <td>24.500000</td>\n",
       "      <td>24.479112</td>\n",
       "      <td>...</td>\n",
       "      <td>525175.433730</td>\n",
       "      <td>322065.249684</td>\n",
       "      <td>8.472407e+05</td>\n",
       "      <td>3119.272664</td>\n",
       "      <td>44.738689</td>\n",
       "      <td>33.836153</td>\n",
       "      <td>154.567261</td>\n",
       "      <td>2359.125616</td>\n",
       "      <td>873.115870</td>\n",
       "      <td>3232.241485</td>\n",
       "    </tr>\n",
       "    <tr>\n",
       "      <th>55</th>\n",
       "      <td>1.597155e+09</td>\n",
       "      <td>210.0</td>\n",
       "      <td>24.500000</td>\n",
       "      <td>24.761945</td>\n",
       "      <td>24.346323</td>\n",
       "      <td>24.447428</td>\n",
       "      <td>24.490189</td>\n",
       "      <td>24.481025</td>\n",
       "      <td>24.500000</td>\n",
       "      <td>24.491607</td>\n",
       "      <td>...</td>\n",
       "      <td>540321.028759</td>\n",
       "      <td>325632.313958</td>\n",
       "      <td>8.659533e+05</td>\n",
       "      <td>3742.531860</td>\n",
       "      <td>54.176857</td>\n",
       "      <td>33.836153</td>\n",
       "      <td>154.567261</td>\n",
       "      <td>2337.398072</td>\n",
       "      <td>865.007301</td>\n",
       "      <td>3202.405373</td>\n",
       "    </tr>\n",
       "    <tr>\n",
       "      <th>56</th>\n",
       "      <td>1.597155e+09</td>\n",
       "      <td>215.0</td>\n",
       "      <td>26.021145</td>\n",
       "      <td>24.794887</td>\n",
       "      <td>24.500000</td>\n",
       "      <td>24.454572</td>\n",
       "      <td>24.500000</td>\n",
       "      <td>24.494066</td>\n",
       "      <td>24.500000</td>\n",
       "      <td>24.500903</td>\n",
       "      <td>...</td>\n",
       "      <td>552166.219450</td>\n",
       "      <td>329203.726228</td>\n",
       "      <td>8.813699e+05</td>\n",
       "      <td>3083.320593</td>\n",
       "      <td>44.981518</td>\n",
       "      <td>33.836153</td>\n",
       "      <td>154.567261</td>\n",
       "      <td>2319.346097</td>\n",
       "      <td>856.840729</td>\n",
       "      <td>3176.186826</td>\n",
       "    </tr>\n",
       "    <tr>\n",
       "      <th>57</th>\n",
       "      <td>1.597155e+09</td>\n",
       "      <td>220.0</td>\n",
       "      <td>24.500000</td>\n",
       "      <td>24.758363</td>\n",
       "      <td>24.500000</td>\n",
       "      <td>24.463730</td>\n",
       "      <td>24.500000</td>\n",
       "      <td>24.501687</td>\n",
       "      <td>24.500000</td>\n",
       "      <td>24.505474</td>\n",
       "      <td>...</td>\n",
       "      <td>564715.356580</td>\n",
       "      <td>331952.965038</td>\n",
       "      <td>8.966683e+05</td>\n",
       "      <td>3059.675188</td>\n",
       "      <td>44.848104</td>\n",
       "      <td>33.836153</td>\n",
       "      <td>154.567261</td>\n",
       "      <td>2308.406120</td>\n",
       "      <td>850.521264</td>\n",
       "      <td>3158.927384</td>\n",
       "    </tr>\n",
       "    <tr>\n",
       "      <th>58</th>\n",
       "      <td>1.597155e+09</td>\n",
       "      <td>225.0</td>\n",
       "      <td>24.480121</td>\n",
       "      <td>24.670266</td>\n",
       "      <td>24.500000</td>\n",
       "      <td>24.471704</td>\n",
       "      <td>24.500000</td>\n",
       "      <td>24.503684</td>\n",
       "      <td>24.500000</td>\n",
       "      <td>24.505273</td>\n",
       "      <td>...</td>\n",
       "      <td>576350.460853</td>\n",
       "      <td>335135.029588</td>\n",
       "      <td>9.114855e+05</td>\n",
       "      <td>2963.433764</td>\n",
       "      <td>43.763165</td>\n",
       "      <td>33.836153</td>\n",
       "      <td>154.567261</td>\n",
       "      <td>2291.223668</td>\n",
       "      <td>843.171017</td>\n",
       "      <td>3134.394685</td>\n",
       "    </tr>\n",
       "    <tr>\n",
       "      <th>59</th>\n",
       "      <td>1.597155e+09</td>\n",
       "      <td>230.0</td>\n",
       "      <td>24.500000</td>\n",
       "      <td>24.567417</td>\n",
       "      <td>24.469381</td>\n",
       "      <td>24.476597</td>\n",
       "      <td>24.500000</td>\n",
       "      <td>24.501645</td>\n",
       "      <td>24.500000</td>\n",
       "      <td>24.501431</td>\n",
       "      <td>...</td>\n",
       "      <td>588441.527097</td>\n",
       "      <td>338694.380614</td>\n",
       "      <td>9.271359e+05</td>\n",
       "      <td>3130.083454</td>\n",
       "      <td>46.796530</td>\n",
       "      <td>33.836153</td>\n",
       "      <td>154.567261</td>\n",
       "      <td>2263.201607</td>\n",
       "      <td>834.903505</td>\n",
       "      <td>3098.105111</td>\n",
       "    </tr>\n",
       "    <tr>\n",
       "      <th>60</th>\n",
       "      <td>1.597155e+09</td>\n",
       "      <td>235.0</td>\n",
       "      <td>24.500000</td>\n",
       "      <td>24.485052</td>\n",
       "      <td>24.440990</td>\n",
       "      <td>24.478848</td>\n",
       "      <td>24.500000</td>\n",
       "      <td>24.497909</td>\n",
       "      <td>24.500000</td>\n",
       "      <td>24.495673</td>\n",
       "      <td>...</td>\n",
       "      <td>601298.254857</td>\n",
       "      <td>341462.196593</td>\n",
       "      <td>9.427605e+05</td>\n",
       "      <td>3124.908748</td>\n",
       "      <td>47.394789</td>\n",
       "      <td>33.836153</td>\n",
       "      <td>154.567261</td>\n",
       "      <td>2230.939155</td>\n",
       "      <td>828.441015</td>\n",
       "      <td>3059.380170</td>\n",
       "    </tr>\n",
       "    <tr>\n",
       "      <th>61</th>\n",
       "      <td>1.597155e+09</td>\n",
       "      <td>240.0</td>\n",
       "      <td>24.500000</td>\n",
       "      <td>24.441676</td>\n",
       "      <td>24.500000</td>\n",
       "      <td>24.480403</td>\n",
       "      <td>24.500000</td>\n",
       "      <td>24.494442</td>\n",
       "      <td>24.500000</td>\n",
       "      <td>24.489763</td>\n",
       "      <td>...</td>\n",
       "      <td>611334.622844</td>\n",
       "      <td>344482.836908</td>\n",
       "      <td>9.558175e+05</td>\n",
       "      <td>2611.401660</td>\n",
       "      <td>40.296219</td>\n",
       "      <td>33.836153</td>\n",
       "      <td>154.567261</td>\n",
       "      <td>2192.756275</td>\n",
       "      <td>821.354630</td>\n",
       "      <td>3014.110905</td>\n",
       "    </tr>\n",
       "    <tr>\n",
       "      <th>62</th>\n",
       "      <td>1.597155e+09</td>\n",
       "      <td>245.0</td>\n",
       "      <td>24.500000</td>\n",
       "      <td>24.436092</td>\n",
       "      <td>24.440503</td>\n",
       "      <td>24.482895</td>\n",
       "      <td>24.465890</td>\n",
       "      <td>24.492105</td>\n",
       "      <td>24.468993</td>\n",
       "      <td>24.485027</td>\n",
       "      <td>...</td>\n",
       "      <td>625970.026229</td>\n",
       "      <td>346996.920399</td>\n",
       "      <td>9.729669e+05</td>\n",
       "      <td>3429.897375</td>\n",
       "      <td>53.571906</td>\n",
       "      <td>33.836153</td>\n",
       "      <td>154.567261</td>\n",
       "      <td>2166.331976</td>\n",
       "      <td>815.429813</td>\n",
       "      <td>2981.761789</td>\n",
       "    </tr>\n",
       "    <tr>\n",
       "      <th>63</th>\n",
       "      <td>1.597155e+09</td>\n",
       "      <td>250.0</td>\n",
       "      <td>24.404005</td>\n",
       "      <td>24.454180</td>\n",
       "      <td>24.500000</td>\n",
       "      <td>24.486264</td>\n",
       "      <td>24.500000</td>\n",
       "      <td>24.490583</td>\n",
       "      <td>24.500000</td>\n",
       "      <td>24.481940</td>\n",
       "      <td>...</td>\n",
       "      <td>637480.443163</td>\n",
       "      <td>349823.302818</td>\n",
       "      <td>9.873037e+05</td>\n",
       "      <td>2867.359871</td>\n",
       "      <td>44.912692</td>\n",
       "      <td>33.836153</td>\n",
       "      <td>154.567261</td>\n",
       "      <td>2160.200663</td>\n",
       "      <td>808.739848</td>\n",
       "      <td>2968.940511</td>\n",
       "    </tr>\n",
       "    <tr>\n",
       "      <th>64</th>\n",
       "      <td>1.597155e+09</td>\n",
       "      <td>255.0</td>\n",
       "      <td>24.500000</td>\n",
       "      <td>24.478816</td>\n",
       "      <td>24.500000</td>\n",
       "      <td>24.488778</td>\n",
       "      <td>24.500000</td>\n",
       "      <td>24.489023</td>\n",
       "      <td>24.447057</td>\n",
       "      <td>24.479950</td>\n",
       "      <td>...</td>\n",
       "      <td>649062.128310</td>\n",
       "      <td>352940.737859</td>\n",
       "      <td>1.002003e+06</td>\n",
       "      <td>2939.824038</td>\n",
       "      <td>45.623520</td>\n",
       "      <td>33.836153</td>\n",
       "      <td>154.567261</td>\n",
       "      <td>2180.286306</td>\n",
       "      <td>801.325053</td>\n",
       "      <td>2981.611359</td>\n",
       "    </tr>\n",
       "    <tr>\n",
       "      <th>65</th>\n",
       "      <td>1.597155e+09</td>\n",
       "      <td>260.0</td>\n",
       "      <td>24.483457</td>\n",
       "      <td>24.497517</td>\n",
       "      <td>24.500000</td>\n",
       "      <td>24.488388</td>\n",
       "      <td>24.500000</td>\n",
       "      <td>24.487006</td>\n",
       "      <td>24.498602</td>\n",
       "      <td>24.477826</td>\n",
       "      <td>...</td>\n",
       "      <td>660874.923190</td>\n",
       "      <td>356059.310422</td>\n",
       "      <td>1.016934e+06</td>\n",
       "      <td>2986.273489</td>\n",
       "      <td>45.602928</td>\n",
       "      <td>33.836153</td>\n",
       "      <td>154.567261</td>\n",
       "      <td>2215.735073</td>\n",
       "      <td>793.869733</td>\n",
       "      <td>3009.604806</td>\n",
       "    </tr>\n",
       "    <tr>\n",
       "      <th>66</th>\n",
       "      <td>1.597155e+09</td>\n",
       "      <td>265.0</td>\n",
       "      <td>24.500000</td>\n",
       "      <td>24.505502</td>\n",
       "      <td>24.471730</td>\n",
       "      <td>24.484402</td>\n",
       "      <td>24.500000</td>\n",
       "      <td>24.485130</td>\n",
       "      <td>24.500000</td>\n",
       "      <td>24.474586</td>\n",
       "      <td>...</td>\n",
       "      <td>673644.805379</td>\n",
       "      <td>358381.065622</td>\n",
       "      <td>1.032026e+06</td>\n",
       "      <td>3018.327478</td>\n",
       "      <td>45.645326</td>\n",
       "      <td>33.836153</td>\n",
       "      <td>154.567261</td>\n",
       "      <td>2237.438093</td>\n",
       "      <td>788.294658</td>\n",
       "      <td>3025.732751</td>\n",
       "    </tr>\n",
       "    <tr>\n",
       "      <th>67</th>\n",
       "      <td>1.597155e+09</td>\n",
       "      <td>270.0</td>\n",
       "      <td>24.500000</td>\n",
       "      <td>24.504535</td>\n",
       "      <td>24.500000</td>\n",
       "      <td>24.478212</td>\n",
       "      <td>24.404766</td>\n",
       "      <td>24.484647</td>\n",
       "      <td>24.500000</td>\n",
       "      <td>24.470502</td>\n",
       "      <td>...</td>\n",
       "      <td>683862.504673</td>\n",
       "      <td>360170.916739</td>\n",
       "      <td>1.044033e+06</td>\n",
       "      <td>2401.510082</td>\n",
       "      <td>36.980764</td>\n",
       "      <td>33.836153</td>\n",
       "      <td>154.567261</td>\n",
       "      <td>2197.300791</td>\n",
       "      <td>783.982416</td>\n",
       "      <td>2981.283206</td>\n",
       "    </tr>\n",
       "    <tr>\n",
       "      <th>68</th>\n",
       "      <td>1.597155e+09</td>\n",
       "      <td>275.0</td>\n",
       "      <td>24.484027</td>\n",
       "      <td>24.499441</td>\n",
       "      <td>24.500000</td>\n",
       "      <td>24.472565</td>\n",
       "      <td>24.500000</td>\n",
       "      <td>24.486397</td>\n",
       "      <td>24.458317</td>\n",
       "      <td>24.467228</td>\n",
       "      <td>...</td>\n",
       "      <td>694183.895130</td>\n",
       "      <td>363027.749037</td>\n",
       "      <td>1.057212e+06</td>\n",
       "      <td>2635.644551</td>\n",
       "      <td>43.522549</td>\n",
       "      <td>33.836153</td>\n",
       "      <td>154.567261</td>\n",
       "      <td>2049.054468</td>\n",
       "      <td>777.073493</td>\n",
       "      <td>2826.127961</td>\n",
       "    </tr>\n",
       "  </tbody>\n",
       "</table>\n",
       "<p>56 rows × 88 columns</p>\n",
       "</div>"
      ],
      "text/plain": [
       "           index   time      T0RAW         T0      T1RAW         T1  \\\n",
       "13  1.597154e+09    0.0  24.336227  24.375649  24.468645  24.412343   \n",
       "14  1.597154e+09    5.0  24.284592  24.361952  24.391734  24.398238   \n",
       "15  1.597154e+09   10.0  24.453233  24.351437  24.279535  24.385204   \n",
       "16  1.597154e+09   15.0  24.365178  24.348657  24.250425  24.376500   \n",
       "17  1.597154e+09   20.0  24.264766  24.355355  24.487084  24.370111   \n",
       "18  1.597154e+09   25.0  24.327246  24.368952  24.452347  24.361838   \n",
       "19  1.597154e+09   30.0  24.439988  24.383300  24.350000  24.350559   \n",
       "20  1.597154e+09   35.0  24.500000  24.392333  24.270756  24.340406   \n",
       "21  1.597154e+09   40.0  24.320775  24.394281  24.262395  24.337880   \n",
       "22  1.597154e+09   45.0  24.453277  24.392878  24.391337  24.346897   \n",
       "23  1.597154e+09   50.0  24.292470  24.394549  24.372373  24.366119   \n",
       "24  1.597154e+09   55.0  24.429977  24.403887  24.457573  24.390189   \n",
       "25  1.597154e+09   60.0  24.469259  24.420518  24.301227  24.412904   \n",
       "26  1.597154e+09   65.0  24.394365  24.439036  24.412694  24.429677   \n",
       "27  1.597154e+09   70.0  24.500000  24.451879  24.500000  24.438526   \n",
       "28  1.597154e+09   75.0  24.437897  24.453725  24.500000  24.440175   \n",
       "29  1.597154e+09   80.0  24.491442  24.445089  24.281833  24.437273   \n",
       "30  1.597154e+09   85.0  24.480571  24.432757  24.398968  24.432679   \n",
       "31  1.597154e+09   90.0  24.340369  24.426407  24.461014  24.428155   \n",
       "32  1.597154e+09   95.0  24.371938  24.433028  24.500000  24.424864   \n",
       "33  1.597154e+09  100.0  24.500000  24.452427  24.465904  24.424661   \n",
       "34  1.597154e+09  105.0  24.500000  24.476901  24.319448  24.429755   \n",
       "35  1.597154e+09  110.0  24.467878  24.495168  24.394262  24.440318   \n",
       "36  1.597154e+09  115.0  24.500000  24.497970  24.500000  24.452732   \n",
       "37  1.597154e+09  120.0  24.500000  24.482479  24.500000  24.461197   \n",
       "38  1.597154e+09  125.0  24.500000  24.453780  24.481291  24.461866   \n",
       "39  1.597154e+09  130.0  24.397175  24.422796  24.480744  24.455789   \n",
       "40  1.597155e+09  135.0  24.323796  24.401365  24.349988  24.448073   \n",
       "41  1.597155e+09  140.0  24.415817  24.396952  24.393151  24.444006   \n",
       "42  1.597155e+09  145.0  24.436138  24.410071  24.500000  24.445477   \n",
       "43  1.597155e+09  150.0  24.500000  24.435396  24.500000  24.450530   \n",
       "44  1.597155e+09  155.0  24.374291  24.464604  24.385374  24.455722   \n",
       "45  1.597155e+09  160.0  24.500000  24.488634  24.500000  24.458687   \n",
       "46  1.597155e+09  165.0  24.500000  24.499226  24.500000  24.459123   \n",
       "47  1.597155e+09  170.0  24.452984  24.491092  24.320575  24.458200   \n",
       "48  1.597155e+09  175.0  24.500000  24.465128  24.500000  24.457236   \n",
       "49  1.597155e+09  180.0  24.471236  24.431100  24.500000  24.456614   \n",
       "50  1.597155e+09  185.0  24.399692  24.407144  24.382503  24.455669   \n",
       "51  1.597155e+09  190.0  24.500000  24.414233  24.500000  24.453446   \n",
       "52  1.597155e+09  195.0  24.416279  24.466369  24.459378  24.449792   \n",
       "53  1.597155e+09  200.0  24.500000  24.560446  24.446731  24.446048   \n",
       "54  1.597155e+09  205.0  24.500000  24.671957  24.497273  24.444599   \n",
       "55  1.597155e+09  210.0  24.500000  24.761945  24.346323  24.447428   \n",
       "56  1.597155e+09  215.0  26.021145  24.794887  24.500000  24.454572   \n",
       "57  1.597155e+09  220.0  24.500000  24.758363  24.500000  24.463730   \n",
       "58  1.597155e+09  225.0  24.480121  24.670266  24.500000  24.471704   \n",
       "59  1.597155e+09  230.0  24.500000  24.567417  24.469381  24.476597   \n",
       "60  1.597155e+09  235.0  24.500000  24.485052  24.440990  24.478848   \n",
       "61  1.597155e+09  240.0  24.500000  24.441676  24.500000  24.480403   \n",
       "62  1.597155e+09  245.0  24.500000  24.436092  24.440503  24.482895   \n",
       "63  1.597155e+09  250.0  24.404005  24.454180  24.500000  24.486264   \n",
       "64  1.597155e+09  255.0  24.500000  24.478816  24.500000  24.488778   \n",
       "65  1.597155e+09  260.0  24.483457  24.497517  24.500000  24.488388   \n",
       "66  1.597155e+09  265.0  24.500000  24.505502  24.471730  24.484402   \n",
       "67  1.597155e+09  270.0  24.500000  24.504535  24.500000  24.478212   \n",
       "68  1.597155e+09  275.0  24.484027  24.499441  24.500000  24.472565   \n",
       "\n",
       "        T2RAW         T2      T3RAW         T3  ...  perspex energy  \\\n",
       "13  24.379954  24.391628  24.395094  24.421569  ...        0.000000   \n",
       "14  24.401242  24.396158  24.495948  24.437040  ...    10248.133481   \n",
       "15  24.486175  24.393697  24.492029  24.441926  ...    20527.013968   \n",
       "16  24.268259  24.391557  24.343396  24.439369  ...    31976.478856   \n",
       "17  24.326317  24.398579  24.420856  24.435528  ...    43192.589799   \n",
       "18  24.451410  24.418805  24.407629  24.434398  ...    52578.182239   \n",
       "19  24.485493  24.448367  24.440642  24.434995  ...    64114.812249   \n",
       "20  24.500000  24.477691  24.439814  24.432922  ...    75712.485196   \n",
       "21  24.500000  24.496825  24.500000  24.424841  ...    87281.099861   \n",
       "22  24.480803  24.500075  24.453805  24.412045  ...    97217.221299   \n",
       "23  24.500000  24.487625  24.253111  24.399994  ...   108903.477671   \n",
       "24  24.456493  24.464241  24.360372  24.393925  ...   122269.538599   \n",
       "25  24.300000  24.436688  24.490478  24.394169  ...   134683.203736   \n",
       "26  24.500000  24.411588  24.320000  24.395362  ...   150431.481720   \n",
       "27  24.500000  24.394507  24.471540  24.390432  ...   162045.795094   \n",
       "28  24.287718  24.389501  24.471253  24.376519  ...   175383.500977   \n",
       "29  24.384741  24.397901  24.352784  24.358391  ...   189281.858095   \n",
       "30  24.411814  24.416996  24.250000  24.346114  ...   204606.776522   \n",
       "31  24.450841  24.440517  24.250000  24.348076  ...   216554.174728   \n",
       "32  24.500000  24.461325  24.487696  24.364776  ...   229920.771598   \n",
       "33  24.456569  24.474484  24.368820  24.388483  ...   244411.877436   \n",
       "34  24.500000  24.478673  24.470277  24.408887  ...   257421.667241   \n",
       "35  24.411640  24.475367  24.500000  24.420174  ...   270455.461223   \n",
       "36  24.495791  24.466974  24.335520  24.424302  ...   287297.209477   \n",
       "37  24.500000  24.455644  24.377125  24.428195  ...   300944.566125   \n",
       "38  24.500000  24.443431  24.388254  24.437234  ...   314394.989779   \n",
       "39  24.384899  24.432861  24.500000  24.450433  ...   328807.803572   \n",
       "40  24.345581  24.426571  24.500000  24.461216  ...   340456.464292   \n",
       "41  24.445814  24.426205  24.500000  24.462765  ...   354543.103042   \n",
       "42  24.466239  24.431763  24.500000  24.453269  ...   368815.567947   \n",
       "43  24.484679  24.441913  24.315481  24.437057  ...   382373.637565   \n",
       "44  24.402964  24.454511  24.378003  24.421328  ...   395469.630439   \n",
       "45  24.497741  24.466637  24.500000  24.411667  ...   409167.668790   \n",
       "46  24.453404  24.474719  24.425390  24.409848  ...   422679.384398   \n",
       "47  24.500000  24.475649  24.350000  24.414418  ...   436233.419152   \n",
       "48  24.500000  24.468646  24.435182  24.422373  ...   448402.790794   \n",
       "49  24.500000  24.456432  24.463964  24.430835  ...   461764.867602   \n",
       "50  24.334255  24.444371  24.477730  24.438421  ...   474879.929338   \n",
       "51  24.465039  24.437853  24.466850  24.445760  ...   488520.187814   \n",
       "52  24.500000  24.439784  24.340845  24.454592  ...   499485.292938   \n",
       "53  24.387487  24.449794  24.483103  24.465982  ...   513147.955997   \n",
       "54  24.498560  24.464945  24.500000  24.479112  ...   525175.433730   \n",
       "55  24.490189  24.481025  24.500000  24.491607  ...   540321.028759   \n",
       "56  24.500000  24.494066  24.500000  24.500903  ...   552166.219450   \n",
       "57  24.500000  24.501687  24.500000  24.505474  ...   564715.356580   \n",
       "58  24.500000  24.503684  24.500000  24.505273  ...   576350.460853   \n",
       "59  24.500000  24.501645  24.500000  24.501431  ...   588441.527097   \n",
       "60  24.500000  24.497909  24.500000  24.495673  ...   601298.254857   \n",
       "61  24.500000  24.494442  24.500000  24.489763  ...   611334.622844   \n",
       "62  24.465890  24.492105  24.468993  24.485027  ...   625970.026229   \n",
       "63  24.500000  24.490583  24.500000  24.481940  ...   637480.443163   \n",
       "64  24.500000  24.489023  24.447057  24.479950  ...   649062.128310   \n",
       "65  24.500000  24.487006  24.498602  24.477826  ...   660874.923190   \n",
       "66  24.500000  24.485130  24.500000  24.474586  ...   673644.805379   \n",
       "67  24.404766  24.484647  24.500000  24.470502  ...   683862.504673   \n",
       "68  24.500000  24.486397  24.458317  24.467228  ...   694183.895130   \n",
       "\n",
       "       ali energy  total energy         flux        HTC  fitted HTC  \\\n",
       "13       0.000000  0.000000e+00          NaN        NaN   33.836153   \n",
       "14   17351.750629  2.759988e+04  5519.976822  46.752659   33.836153   \n",
       "15   34275.930684  5.480294e+04  5440.612108  45.402824   33.836153   \n",
       "16   51041.234450  8.301771e+04  5642.953731  47.030860   33.836153   \n",
       "17   65920.765368  1.091134e+05  5219.128372  43.920014   33.836153   \n",
       "18   79325.682350  1.319039e+05  4558.101885  39.054507   33.836153   \n",
       "19   92608.282240  1.567231e+05  4963.845980  43.557958   33.836153   \n",
       "20  104454.039288  1.801665e+05  4688.685999  42.100623   33.836153   \n",
       "21  116576.952524  2.038581e+05  4738.305580  43.522593   33.836153   \n",
       "22  126959.006296  2.241762e+05  4063.635042  38.009198   33.836153   \n",
       "23  137117.016394  2.460205e+05  4368.853294  41.571188   33.836153   \n",
       "24  147336.379059  2.696059e+05  4717.084719  45.686173   33.836153   \n",
       "25  156301.147784  2.909844e+05  4275.686772  42.086052   33.836153   \n",
       "26  165277.555799  3.157090e+05  4944.937200  49.512043   33.836153   \n",
       "27  174232.222787  3.362780e+05  4113.796073  41.921812   33.836153   \n",
       "28  181920.470497  3.573040e+05  4205.190719  43.509251   33.836153   \n",
       "29  190067.341904  3.793492e+05  4409.045705  46.363581   33.836153   \n",
       "30  198428.102645  4.030349e+05  4737.135834  50.659025   33.836153   \n",
       "31  205338.652757  4.218928e+05  3771.589664  40.902922   33.836153   \n",
       "32  212495.869749  4.424166e+05  4104.762772  45.188972   33.836153   \n",
       "33  219570.480980  4.639824e+05  4313.143414  48.212717   33.836153   \n",
       "34  226178.927836  4.836006e+05  3923.647332  44.498443   33.836153   \n",
       "35  232970.677765  5.034261e+05  3965.108782  45.648919   33.836153   \n",
       "36  240154.190846  5.274514e+05  4805.052267  56.211461   33.836153   \n",
       "37  245671.111363  5.466157e+05  3832.855433  45.388274   33.836153   \n",
       "38  251025.152690  5.654201e+05  3760.892996  45.077969   33.836153   \n",
       "39  257612.602047  5.864204e+05  4200.052630  51.134193   33.836153   \n",
       "40  262139.509397  6.025960e+05  3235.113614  39.825120   33.836153   \n",
       "41  267184.388117  6.217275e+05  3826.303494  47.704315   33.836153   \n",
       "42  272685.869995  6.415014e+05  3954.789356  49.995167   33.836153   \n",
       "43  276616.596449  6.589902e+05  3497.759214  44.642159   33.836153   \n",
       "44  281852.473449  6.773221e+05  3666.373975  47.384448   33.836153   \n",
       "45  286178.742926  6.953464e+05  3604.861565  47.053820   33.836153   \n",
       "46  290260.288340  7.129397e+05  3518.652204  46.356709   33.836153   \n",
       "47  294592.127715  7.308255e+05  3577.174826  47.608788   33.836153   \n",
       "48  298523.107112  7.469259e+05  3220.070208  43.258316   33.836153   \n",
       "49  302991.794730  7.647567e+05  3566.152885  48.443431   33.836153   \n",
       "50  307274.945297  7.821549e+05  3479.642460  47.795541   33.836153   \n",
       "51  311359.430588  7.998796e+05  3544.948754  49.243064   33.836153   \n",
       "52  314931.392135  8.144167e+05  2907.413334  40.815438   33.836153   \n",
       "53  318496.364099  8.316443e+05  3445.527005  48.900737   33.836153   \n",
       "54  322065.249684  8.472407e+05  3119.272664  44.738689   33.836153   \n",
       "55  325632.313958  8.659533e+05  3742.531860  54.176857   33.836153   \n",
       "56  329203.726228  8.813699e+05  3083.320593  44.981518   33.836153   \n",
       "57  331952.965038  8.966683e+05  3059.675188  44.848104   33.836153   \n",
       "58  335135.029588  9.114855e+05  2963.433764  43.763165   33.836153   \n",
       "59  338694.380614  9.271359e+05  3130.083454  46.796530   33.836153   \n",
       "60  341462.196593  9.427605e+05  3124.908748  47.394789   33.836153   \n",
       "61  344482.836908  9.558175e+05  2611.401660  40.296219   33.836153   \n",
       "62  346996.920399  9.729669e+05  3429.897375  53.571906   33.836153   \n",
       "63  349823.302818  9.873037e+05  2867.359871  44.912692   33.836153   \n",
       "64  352940.737859  1.002003e+06  2939.824038  45.623520   33.836153   \n",
       "65  356059.310422  1.016934e+06  2986.273489  45.602928   33.836153   \n",
       "66  358381.065622  1.032026e+06  3018.327478  45.645326   33.836153   \n",
       "67  360170.916739  1.044033e+06  2401.510082  36.980764   33.836153   \n",
       "68  363027.749037  1.057212e+06  2635.644551  43.522549   33.836153   \n",
       "\n",
       "       BB temp  fitted convective flux  fitted radiative flux  \\\n",
       "13  154.567261             3903.272298            1430.181506   \n",
       "14  154.567261             3994.955257            1407.961380   \n",
       "15  154.567261             4054.580075            1385.534905   \n",
       "16  154.567261             4059.799159            1362.568226   \n",
       "17  154.567261             4020.837194            1341.545606   \n",
       "18  154.567261             3949.061084            1322.081551   \n",
       "19  154.567261             3855.953270            1302.295601   \n",
       "20  154.567261             3768.283822            1284.223642   \n",
       "21  154.567261             3683.742677            1265.306088   \n",
       "22  154.567261             3617.486923            1248.760254   \n",
       "23  154.567261             3555.952972            1232.259324   \n",
       "24  154.567261             3493.573477            1215.343208   \n",
       "25  154.567261             3437.547250            1200.240093   \n",
       "26  154.567261             3379.332424            1184.867559   \n",
       "27  154.567261             3320.348698            1169.280469   \n",
       "28  154.567261             3270.280970            1155.695061   \n",
       "29  154.567261             3217.722660            1141.092813   \n",
       "30  154.567261             3164.025601            1125.884200   \n",
       "31  154.567261             3119.974772            1113.141485   \n",
       "32  154.567261             3073.523838            1099.778270   \n",
       "33  154.567261             3027.005913            1086.402248   \n",
       "34  154.567261             2983.500632            1073.756361   \n",
       "35  154.567261             2939.040608            1060.606257   \n",
       "36  154.567261             2892.372526            1046.527003   \n",
       "37  154.567261             2857.325722            1035.594183   \n",
       "38  154.567261             2822.978788            1024.883772   \n",
       "39  154.567261             2779.228829            1011.569446   \n",
       "40  154.567261             2748.611932            1002.331918   \n",
       "41  154.567261             2713.955564             991.952545   \n",
       "42  154.567261             2676.555889             980.531175   \n",
       "43  154.567261             2651.097484             972.304870   \n",
       "44  154.567261             2618.073982             961.261322   \n",
       "45  154.567261             2592.236869             952.061998   \n",
       "46  154.567261             2568.293940             943.321077   \n",
       "47  154.567261             2542.342281             933.977999   \n",
       "48  154.567261             2518.701574             925.440296   \n",
       "49  154.567261             2490.841234             915.665989   \n",
       "50  154.567261             2463.361883             906.228515   \n",
       "51  154.567261             2435.823851             897.165576   \n",
       "52  154.567261             2410.256722             889.189062   \n",
       "53  154.567261             2384.082238             881.180700   \n",
       "54  154.567261             2359.125616             873.115870   \n",
       "55  154.567261             2337.398072             865.007301   \n",
       "56  154.567261             2319.346097             856.840729   \n",
       "57  154.567261             2308.406120             850.521264   \n",
       "58  154.567261             2291.223668             843.171017   \n",
       "59  154.567261             2263.201607             834.903505   \n",
       "60  154.567261             2230.939155             828.441015   \n",
       "61  154.567261             2192.756275             821.354630   \n",
       "62  154.567261             2166.331976             815.429813   \n",
       "63  154.567261             2160.200663             808.739848   \n",
       "64  154.567261             2180.286306             801.325053   \n",
       "65  154.567261             2215.735073             793.869733   \n",
       "66  154.567261             2237.438093             788.294658   \n",
       "67  154.567261             2197.300791             783.982416   \n",
       "68  154.567261             2049.054468             777.073493   \n",
       "\n",
       "    fitted surface flux  \n",
       "13          5333.453804  \n",
       "14          5402.916637  \n",
       "15          5440.114980  \n",
       "16          5422.367386  \n",
       "17          5362.382800  \n",
       "18          5271.142634  \n",
       "19          5158.248871  \n",
       "20          5052.507464  \n",
       "21          4949.048765  \n",
       "22          4866.247177  \n",
       "23          4788.212297  \n",
       "24          4708.916686  \n",
       "25          4637.787343  \n",
       "26          4564.199984  \n",
       "27          4489.629167  \n",
       "28          4425.976031  \n",
       "29          4358.815473  \n",
       "30          4289.909801  \n",
       "31          4233.116258  \n",
       "32          4173.302108  \n",
       "33          4113.408161  \n",
       "34          4057.256993  \n",
       "35          3999.646865  \n",
       "36          3938.899529  \n",
       "37          3892.919905  \n",
       "38          3847.862560  \n",
       "39          3790.798275  \n",
       "40          3750.943850  \n",
       "41          3705.908109  \n",
       "42          3657.087064  \n",
       "43          3623.402354  \n",
       "44          3579.335304  \n",
       "45          3544.298867  \n",
       "46          3511.615018  \n",
       "47          3476.320280  \n",
       "48          3444.141870  \n",
       "49          3406.507223  \n",
       "50          3369.590397  \n",
       "51          3332.989428  \n",
       "52          3299.445784  \n",
       "53          3265.262938  \n",
       "54          3232.241485  \n",
       "55          3202.405373  \n",
       "56          3176.186826  \n",
       "57          3158.927384  \n",
       "58          3134.394685  \n",
       "59          3098.105111  \n",
       "60          3059.380170  \n",
       "61          3014.110905  \n",
       "62          2981.761789  \n",
       "63          2968.940511  \n",
       "64          2981.611359  \n",
       "65          3009.604806  \n",
       "66          3025.732751  \n",
       "67          2981.283206  \n",
       "68          2826.127961  \n",
       "\n",
       "[56 rows x 88 columns]"
      ]
     },
     "execution_count": 32,
     "metadata": {},
     "output_type": "execute_result"
    }
   ],
   "source": [
    "test_df"
   ]
  },
  {
   "cell_type": "code",
   "execution_count": null,
   "metadata": {},
   "outputs": [],
   "source": []
  }
 ],
 "metadata": {
  "kernelspec": {
   "display_name": "Python 3",
   "language": "python",
   "name": "python3"
  },
  "language_info": {
   "codemirror_mode": {
    "name": "ipython",
    "version": 3
   },
   "file_extension": ".py",
   "mimetype": "text/x-python",
   "name": "python",
   "nbconvert_exporter": "python",
   "pygments_lexer": "ipython3",
   "version": "3.7.1"
  }
 },
 "nbformat": 4,
 "nbformat_minor": 2
}
